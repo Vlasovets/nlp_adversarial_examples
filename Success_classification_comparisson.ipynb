{
  "nbformat": 4,
  "nbformat_minor": 0,
  "metadata": {
    "colab": {
      "name": "Success_classification_comparisson.ipynb",
      "provenance": [],
      "toc_visible": true,
      "authorship_tag": "ABX9TyOGT5FtpSg1yrM32tP0E9k8",
      "include_colab_link": true
    },
    "kernelspec": {
      "name": "python3",
      "display_name": "Python 3"
    },
    "accelerator": "GPU"
  },
  "cells": [
    {
      "cell_type": "markdown",
      "metadata": {
        "id": "view-in-github",
        "colab_type": "text"
      },
      "source": [
        "<a href=\"https://colab.research.google.com/github/Vlasovets/nlp_adversarial_examples/blob/master/Success_classification_comparisson.ipynb\" target=\"_parent\"><img src=\"https://colab.research.google.com/assets/colab-badge.svg\" alt=\"Open In Colab\"/></a>"
      ]
    },
    {
      "cell_type": "code",
      "metadata": {
        "id": "DLTBOX-viSYu",
        "colab_type": "code",
        "colab": {}
      },
      "source": [
        "!mkdir data"
      ],
      "execution_count": 0,
      "outputs": []
    },
    {
      "cell_type": "code",
      "metadata": {
        "id": "GMCmYynokZh0",
        "colab_type": "code",
        "outputId": "c7ecceb4-acc4-4632-f1fe-e7f1c1069327",
        "colab": {
          "base_uri": "https://localhost:8080/",
          "height": 34
        }
      },
      "source": [
        "%cd data"
      ],
      "execution_count": 0,
      "outputs": [
        {
          "output_type": "stream",
          "text": [
            "/content/data\n"
          ],
          "name": "stdout"
        }
      ]
    },
    {
      "cell_type": "code",
      "metadata": {
        "id": "Ug7UNGamkpn7",
        "colab_type": "code",
        "colab": {}
      },
      "source": [
        "!mv /content/ag_news_csv.zip /content/data"
      ],
      "execution_count": 0,
      "outputs": []
    },
    {
      "cell_type": "code",
      "metadata": {
        "id": "OXf2ALFxkbX8",
        "colab_type": "code",
        "outputId": "da61c4f3-fa3c-4708-be0d-7d1244e0bbfe",
        "colab": {
          "base_uri": "https://localhost:8080/",
          "height": 103
        }
      },
      "source": [
        "!unzip ag_news_csv.zip"
      ],
      "execution_count": 0,
      "outputs": [
        {
          "output_type": "stream",
          "text": [
            "Archive:  ag_news_csv.zip\n",
            " extracting: ag_news_csv/classes.txt  \n",
            "  inflating: ag_news_csv/readme.txt  \n",
            "  inflating: ag_news_csv/test.csv    \n",
            "  inflating: ag_news_csv/train.csv   \n"
          ],
          "name": "stdout"
        }
      ]
    },
    {
      "cell_type": "code",
      "metadata": {
        "id": "gHmAohe8CkOO",
        "colab_type": "code",
        "colab": {
          "base_uri": "https://localhost:8080/",
          "height": 34
        },
        "outputId": "fa25c24d-b01b-4f38-e404-ca67d1beb9ab"
      },
      "source": [
        ""
      ],
      "execution_count": 7,
      "outputs": [
        {
          "output_type": "execute_result",
          "data": {
            "text/plain": [
              "'C:\\\\'"
            ]
          },
          "metadata": {
            "tags": []
          },
          "execution_count": 7
        }
      ]
    },
    {
      "cell_type": "code",
      "metadata": {
        "id": "f-_EfL_slJ2u",
        "colab_type": "code",
        "outputId": "0d8305aa-eda7-4bb0-aff6-7d58f9a8c63d",
        "colab": {
          "base_uri": "https://localhost:8080/",
          "height": 51
        }
      },
      "source": [
        "%cd /content/data/ag_news_csv"
      ],
      "execution_count": 6,
      "outputs": [
        {
          "output_type": "stream",
          "text": [
            "[WinError 3] The system cannot find the path specified: '/content/data/ag_news_csv'\n",
            "C:\\\n"
          ],
          "name": "stdout"
        }
      ]
    },
    {
      "cell_type": "code",
      "metadata": {
        "id": "AMjePOJ1k32S",
        "colab_type": "code",
        "colab": {}
      },
      "source": [
        "import pandas as pd\n",
        "import numpy as np\n",
        "\n",
        "from sklearn import model_selection, linear_model, metrics\n",
        "from sklearn import metrics\n",
        "from sklearn.metrics import classification_report\n",
        "from sklearn.feature_extraction.text import TfidfVectorizer"
      ],
      "execution_count": 0,
      "outputs": []
    },
    {
      "cell_type": "code",
      "metadata": {
        "id": "3nxiRRqOiiwO",
        "colab_type": "code",
        "colab": {}
      },
      "source": [
        "%%capture\n",
        "from tqdm import tqdm_notebook as tqdm\n",
        "tqdm().pandas()"
      ],
      "execution_count": 0,
      "outputs": []
    },
    {
      "cell_type": "code",
      "metadata": {
        "id": "mGLiusZFib7Q",
        "colab_type": "code",
        "colab": {}
      },
      "source": [
        "!jupyter nbextension enable --py widgetsnbextension"
      ],
      "execution_count": 0,
      "outputs": []
    },
    {
      "cell_type": "code",
      "metadata": {
        "id": "POJgVUKeqxgd",
        "colab_type": "code",
        "outputId": "8632d55d-c1d2-4e56-f9e7-f24bb70a3fef",
        "colab": {
          "base_uri": "https://localhost:8080/",
          "height": 34
        }
      },
      "source": [
        "%cd /Users/xvlasol/Desktop/samples/ag_news_csv"
      ],
      "execution_count": 8,
      "outputs": [
        {
          "output_type": "stream",
          "text": [
            "C:\\Users\\xvlasol\\Desktop\\samples\\ag_news_csv\n"
          ],
          "name": "stdout"
        }
      ]
    },
    {
      "cell_type": "markdown",
      "metadata": {
        "id": "hZMP-qNd_LGu",
        "colab_type": "text"
      },
      "source": [
        "#Data preparation"
      ]
    },
    {
      "cell_type": "markdown",
      "metadata": {
        "id": "3n9UJabGyOjs",
        "colab_type": "text"
      },
      "source": [
        "##AG News dataset\n",
        "The training dataset will be the same for every model"
      ]
    },
    {
      "cell_type": "code",
      "metadata": {
        "id": "2aUtN0Mwk74L",
        "colab_type": "code",
        "outputId": "ee5618d4-abdd-4feb-b1f8-27af5a75cddb",
        "colab": {
          "base_uri": "https://localhost:8080/",
          "height": 446
        }
      },
      "source": [
        "train = pd.read_csv('train.csv', header=None)\n",
        "train.columns = ['Class','Title', 'Description']\n",
        "\n",
        "test_ag = pd.read_csv('test.csv', header=None)\n",
        "test_ag.columns = ['Class','Title', 'Description']\n",
        "\n",
        "print(train.head(), test_ag.head())"
      ],
      "execution_count": 9,
      "outputs": [
        {
          "output_type": "stream",
          "text": [
            "   Class                                              Title  \\\n",
            "0      3  Wall St. Bears Claw Back Into the Black (Reuters)   \n",
            "1      3  Carlyle Looks Toward Commercial Aerospace (Reu...   \n",
            "2      3    Oil and Economy Cloud Stocks' Outlook (Reuters)   \n",
            "3      3  Iraq Halts Oil Exports from Main Southern Pipe...   \n",
            "4      3  Oil prices soar to all-time record, posing new...   \n",
            "\n",
            "                                         Description  \n",
            "0  Reuters - Short-sellers, Wall Street's dwindli...  \n",
            "1  Reuters - Private investment firm Carlyle Grou...  \n",
            "2  Reuters - Soaring crude prices plus worries\\ab...  \n",
            "3  Reuters - Authorities have halted oil export\\f...  \n",
            "4  AFP - Tearaway world oil prices, toppling reco...      Class                                              Title  \\\n",
            "0      3                  Fears for T N pension after talks   \n",
            "1      4  The Race is On: Second Private Team Sets Launc...   \n",
            "2      4      Ky. Company Wins Grant to Study Peptides (AP)   \n",
            "3      4      Prediction Unit Helps Forecast Wildfires (AP)   \n",
            "4      4        Calif. Aims to Limit Farm-Related Smog (AP)   \n",
            "\n",
            "                                         Description  \n",
            "0  Unions representing workers at Turner   Newall...  \n",
            "1  SPACE.com - TORONTO, Canada -- A second\\team o...  \n",
            "2  AP - A company founded by a chemistry research...  \n",
            "3  AP - It's barely dawn when Mike Fitzpatrick st...  \n",
            "4  AP - Southern California's smog-fighting agenc...  \n"
          ],
          "name": "stdout"
        }
      ]
    },
    {
      "cell_type": "code",
      "metadata": {
        "id": "1iWMhL6LhAFl",
        "colab_type": "code",
        "colab": {}
      },
      "source": [
        "test_ag = test_ag[:987]"
      ],
      "execution_count": 0,
      "outputs": []
    },
    {
      "cell_type": "code",
      "metadata": {
        "id": "CXG5pcLvnzkg",
        "colab_type": "code",
        "outputId": "deff2725-cf9f-4e1d-fbbb-dcf38702e1ad",
        "colab": {
          "base_uri": "https://localhost:8080/",
          "height": 34
        }
      },
      "source": [
        "y_train = train['Class']\n",
        "y_test = test_ag['Class']\n",
        "\n",
        "print(len(y_train), len(y_test))"
      ],
      "execution_count": 12,
      "outputs": [
        {
          "output_type": "stream",
          "text": [
            "120000 987\n"
          ],
          "name": "stdout"
        }
      ]
    },
    {
      "cell_type": "markdown",
      "metadata": {
        "id": "8PpkUWRh_Y3q",
        "colab_type": "text"
      },
      "source": [
        "##DeepWordBug Samples\n",
        "\n",
        "Not possible to get y_test"
      ]
    },
    {
      "cell_type": "code",
      "metadata": {
        "id": "KJ2U8PhM_XAJ",
        "colab_type": "code",
        "outputId": "ddb548fb-539e-4808-9701-89835d807b29",
        "colab": {
          "base_uri": "https://localhost:8080/",
          "height": 203
        }
      },
      "source": [
        "test_dwb = pd.read_csv('DWB_output.txt', sep='\\n', header=None)\n",
        "test_dwb.columns = ['Description']\n",
        "\n",
        "#print(train_ag.head(), test_ag.head())\n",
        "test_dwb.head()"
      ],
      "execution_count": 13,
      "outputs": [
        {
          "output_type": "execute_result",
          "data": {
            "text/plain": [
              "                                         Description\n",
              "0  unctad optimistic on global fdi inflows the un...\n",
              "1  hundreds mourn loss of student killed by polic...\n",
              "2  rebels attack in central iraq and the north a ...\n",
              "3  no sign yet of predicted big california earthq...\n",
              "4  accounting body delays rule on expensing optio..."
            ],
            "text/html": [
              "<div>\n",
              "<style scoped>\n",
              "    .dataframe tbody tr th:only-of-type {\n",
              "        vertical-align: middle;\n",
              "    }\n",
              "\n",
              "    .dataframe tbody tr th {\n",
              "        vertical-align: top;\n",
              "    }\n",
              "\n",
              "    .dataframe thead th {\n",
              "        text-align: right;\n",
              "    }\n",
              "</style>\n",
              "<table border=\"1\" class=\"dataframe\">\n",
              "  <thead>\n",
              "    <tr style=\"text-align: right;\">\n",
              "      <th></th>\n",
              "      <th>Description</th>\n",
              "    </tr>\n",
              "  </thead>\n",
              "  <tbody>\n",
              "    <tr>\n",
              "      <th>0</th>\n",
              "      <td>unctad optimistic on global fdi inflows the un...</td>\n",
              "    </tr>\n",
              "    <tr>\n",
              "      <th>1</th>\n",
              "      <td>hundreds mourn loss of student killed by polic...</td>\n",
              "    </tr>\n",
              "    <tr>\n",
              "      <th>2</th>\n",
              "      <td>rebels attack in central iraq and the north a ...</td>\n",
              "    </tr>\n",
              "    <tr>\n",
              "      <th>3</th>\n",
              "      <td>no sign yet of predicted big california earthq...</td>\n",
              "    </tr>\n",
              "    <tr>\n",
              "      <th>4</th>\n",
              "      <td>accounting body delays rule on expensing optio...</td>\n",
              "    </tr>\n",
              "  </tbody>\n",
              "</table>\n",
              "</div>"
            ]
          },
          "metadata": {
            "tags": []
          },
          "execution_count": 13
        }
      ]
    },
    {
      "cell_type": "markdown",
      "metadata": {
        "id": "_LvHA54cfoBU",
        "colab_type": "text"
      },
      "source": [
        "##CNN Samples"
      ]
    },
    {
      "cell_type": "code",
      "metadata": {
        "id": "uUodH31QmoUZ",
        "colab_type": "code",
        "outputId": "8996a428-f786-439c-9638-b25c19702610",
        "colab": {
          "base_uri": "https://localhost:8080/",
          "height": 203
        }
      },
      "source": [
        "test_cnn = pd.read_csv('PWWS_cnn_adv_7600.txt', sep='\\n', header=None)\n",
        "test_cnn.columns = ['Description']\n",
        "\n",
        "test_cnn.head()"
      ],
      "execution_count": 14,
      "outputs": [
        {
          "output_type": "execute_result",
          "data": {
            "text/plain": [
              "                                         Description\n",
              "0  Fears for T N pension after talks . Unions rep...\n",
              "1  The Race is On : Second Private Team Sets Laun...\n",
              "2  Ky. Company Wins President to learn Peptides (...\n",
              "3  Prediction Unit Helps Forecast Wildfires (AP)....\n",
              "4  Calif. Aims to Limit Farm-Related Smog (AP). A..."
            ],
            "text/html": [
              "<div>\n",
              "<style scoped>\n",
              "    .dataframe tbody tr th:only-of-type {\n",
              "        vertical-align: middle;\n",
              "    }\n",
              "\n",
              "    .dataframe tbody tr th {\n",
              "        vertical-align: top;\n",
              "    }\n",
              "\n",
              "    .dataframe thead th {\n",
              "        text-align: right;\n",
              "    }\n",
              "</style>\n",
              "<table border=\"1\" class=\"dataframe\">\n",
              "  <thead>\n",
              "    <tr style=\"text-align: right;\">\n",
              "      <th></th>\n",
              "      <th>Description</th>\n",
              "    </tr>\n",
              "  </thead>\n",
              "  <tbody>\n",
              "    <tr>\n",
              "      <th>0</th>\n",
              "      <td>Fears for T N pension after talks . Unions rep...</td>\n",
              "    </tr>\n",
              "    <tr>\n",
              "      <th>1</th>\n",
              "      <td>The Race is On : Second Private Team Sets Laun...</td>\n",
              "    </tr>\n",
              "    <tr>\n",
              "      <th>2</th>\n",
              "      <td>Ky. Company Wins President to learn Peptides (...</td>\n",
              "    </tr>\n",
              "    <tr>\n",
              "      <th>3</th>\n",
              "      <td>Prediction Unit Helps Forecast Wildfires (AP)....</td>\n",
              "    </tr>\n",
              "    <tr>\n",
              "      <th>4</th>\n",
              "      <td>Calif. Aims to Limit Farm-Related Smog (AP). A...</td>\n",
              "    </tr>\n",
              "  </tbody>\n",
              "</table>\n",
              "</div>"
            ]
          },
          "metadata": {
            "tags": []
          },
          "execution_count": 14
        }
      ]
    },
    {
      "cell_type": "markdown",
      "metadata": {
        "id": "jV5ScLKPp6nm",
        "colab_type": "text"
      },
      "source": [
        "Remove the end of each line containing unnecessary statisctics like 'sub_rate: 0.034482758620689655; NE_rate: 0.0'"
      ]
    },
    {
      "cell_type": "code",
      "metadata": {
        "id": "-25ZaINcnCu6",
        "colab_type": "code",
        "outputId": "88ad65a6-f9c1-4610-c140-91e27368a5f6",
        "colab": {
          "base_uri": "https://localhost:8080/",
          "height": 203
        }
      },
      "source": [
        "test_cnn['new_Description'] = test_cnn['Description'].str.split('sub_rate').str[0]\n",
        "del test_cnn['Description']\n",
        "test_cnn.columns = ['Description']\n",
        "\n",
        "test_cnn.head()"
      ],
      "execution_count": 15,
      "outputs": [
        {
          "output_type": "execute_result",
          "data": {
            "text/plain": [
              "                                         Description\n",
              "0  Fears for T N pension after talks . Unions rep...\n",
              "1  The Race is On : Second Private Team Sets Laun...\n",
              "2  Ky. Company Wins President to learn Peptides (...\n",
              "3  Prediction Unit Helps Forecast Wildfires (AP)....\n",
              "4  Calif. Aims to Limit Farm-Related Smog (AP). A..."
            ],
            "text/html": [
              "<div>\n",
              "<style scoped>\n",
              "    .dataframe tbody tr th:only-of-type {\n",
              "        vertical-align: middle;\n",
              "    }\n",
              "\n",
              "    .dataframe tbody tr th {\n",
              "        vertical-align: top;\n",
              "    }\n",
              "\n",
              "    .dataframe thead th {\n",
              "        text-align: right;\n",
              "    }\n",
              "</style>\n",
              "<table border=\"1\" class=\"dataframe\">\n",
              "  <thead>\n",
              "    <tr style=\"text-align: right;\">\n",
              "      <th></th>\n",
              "      <th>Description</th>\n",
              "    </tr>\n",
              "  </thead>\n",
              "  <tbody>\n",
              "    <tr>\n",
              "      <th>0</th>\n",
              "      <td>Fears for T N pension after talks . Unions rep...</td>\n",
              "    </tr>\n",
              "    <tr>\n",
              "      <th>1</th>\n",
              "      <td>The Race is On : Second Private Team Sets Laun...</td>\n",
              "    </tr>\n",
              "    <tr>\n",
              "      <th>2</th>\n",
              "      <td>Ky. Company Wins President to learn Peptides (...</td>\n",
              "    </tr>\n",
              "    <tr>\n",
              "      <th>3</th>\n",
              "      <td>Prediction Unit Helps Forecast Wildfires (AP)....</td>\n",
              "    </tr>\n",
              "    <tr>\n",
              "      <th>4</th>\n",
              "      <td>Calif. Aims to Limit Farm-Related Smog (AP). A...</td>\n",
              "    </tr>\n",
              "  </tbody>\n",
              "</table>\n",
              "</div>"
            ]
          },
          "metadata": {
            "tags": []
          },
          "execution_count": 15
        }
      ]
    },
    {
      "cell_type": "code",
      "metadata": {
        "id": "nh1UYVhng3vX",
        "colab_type": "code",
        "colab": {}
      },
      "source": [
        "test_cnn = test_cnn[:987]"
      ],
      "execution_count": 0,
      "outputs": []
    },
    {
      "cell_type": "code",
      "metadata": {
        "id": "Qi4CVTT2fWgI",
        "colab_type": "code",
        "outputId": "734d4198-054e-4ce2-b4e3-def81c02f89c",
        "colab": {
          "base_uri": "https://localhost:8080/",
          "height": 34
        }
      },
      "source": [
        "len(test_cnn)"
      ],
      "execution_count": 17,
      "outputs": [
        {
          "output_type": "execute_result",
          "data": {
            "text/plain": [
              "987"
            ]
          },
          "metadata": {
            "tags": []
          },
          "execution_count": 17
        }
      ]
    },
    {
      "cell_type": "markdown",
      "metadata": {
        "id": "bofTamYEfiCv",
        "colab_type": "text"
      },
      "source": [
        "##LSTM Samples\n",
        "\n"
      ]
    },
    {
      "cell_type": "code",
      "metadata": {
        "id": "EDbLt_grfkny",
        "colab_type": "code",
        "outputId": "5166e9f1-019a-4dd8-908a-25bf989e2168",
        "colab": {
          "base_uri": "https://localhost:8080/",
          "height": 203
        }
      },
      "source": [
        "test_lstm = pd.read_csv('LSTM_1000.txt', sep='\\n', header=None)\n",
        "test_lstm.columns = ['Description']\n",
        "\n",
        "test_lstm.head()"
      ],
      "execution_count": 18,
      "outputs": [
        {
          "output_type": "execute_result",
          "data": {
            "text/plain": [
              "                                         Description\n",
              "0  Fears for T N pension after talks . Unions rep...\n",
              "1  The Race is On : Second Private Team Sets Laun...\n",
              "2  Ky. Company Wins Grant to take Peptides ( AFP ...\n",
              "3  Prediction Unit Helps Forecast Wildfires (AP)....\n",
              "4  Calif. Aims to Limit Farm - Related Smog ( AP ..."
            ],
            "text/html": [
              "<div>\n",
              "<style scoped>\n",
              "    .dataframe tbody tr th:only-of-type {\n",
              "        vertical-align: middle;\n",
              "    }\n",
              "\n",
              "    .dataframe tbody tr th {\n",
              "        vertical-align: top;\n",
              "    }\n",
              "\n",
              "    .dataframe thead th {\n",
              "        text-align: right;\n",
              "    }\n",
              "</style>\n",
              "<table border=\"1\" class=\"dataframe\">\n",
              "  <thead>\n",
              "    <tr style=\"text-align: right;\">\n",
              "      <th></th>\n",
              "      <th>Description</th>\n",
              "    </tr>\n",
              "  </thead>\n",
              "  <tbody>\n",
              "    <tr>\n",
              "      <th>0</th>\n",
              "      <td>Fears for T N pension after talks . Unions rep...</td>\n",
              "    </tr>\n",
              "    <tr>\n",
              "      <th>1</th>\n",
              "      <td>The Race is On : Second Private Team Sets Laun...</td>\n",
              "    </tr>\n",
              "    <tr>\n",
              "      <th>2</th>\n",
              "      <td>Ky. Company Wins Grant to take Peptides ( AFP ...</td>\n",
              "    </tr>\n",
              "    <tr>\n",
              "      <th>3</th>\n",
              "      <td>Prediction Unit Helps Forecast Wildfires (AP)....</td>\n",
              "    </tr>\n",
              "    <tr>\n",
              "      <th>4</th>\n",
              "      <td>Calif. Aims to Limit Farm - Related Smog ( AP ...</td>\n",
              "    </tr>\n",
              "  </tbody>\n",
              "</table>\n",
              "</div>"
            ]
          },
          "metadata": {
            "tags": []
          },
          "execution_count": 18
        }
      ]
    },
    {
      "cell_type": "code",
      "metadata": {
        "id": "05LCTyYMf2pE",
        "colab_type": "code",
        "outputId": "3a4c1594-b392-433f-e879-412c32720a44",
        "colab": {
          "base_uri": "https://localhost:8080/",
          "height": 203
        }
      },
      "source": [
        "test_lstm['new_Description'] = test_lstm['Description'].str.split('sub_rate').str[0]\n",
        "del test_lstm['Description']\n",
        "test_lstm.columns = ['Description']\n",
        "\n",
        "test_lstm.head()"
      ],
      "execution_count": 19,
      "outputs": [
        {
          "output_type": "execute_result",
          "data": {
            "text/plain": [
              "                                         Description\n",
              "0  Fears for T N pension after talks . Unions rep...\n",
              "1  The Race is On : Second Private Team Sets Laun...\n",
              "2  Ky. Company Wins Grant to take Peptides ( AFP ...\n",
              "3  Prediction Unit Helps Forecast Wildfires (AP)....\n",
              "4  Calif. Aims to Limit Farm - Related Smog ( AP ..."
            ],
            "text/html": [
              "<div>\n",
              "<style scoped>\n",
              "    .dataframe tbody tr th:only-of-type {\n",
              "        vertical-align: middle;\n",
              "    }\n",
              "\n",
              "    .dataframe tbody tr th {\n",
              "        vertical-align: top;\n",
              "    }\n",
              "\n",
              "    .dataframe thead th {\n",
              "        text-align: right;\n",
              "    }\n",
              "</style>\n",
              "<table border=\"1\" class=\"dataframe\">\n",
              "  <thead>\n",
              "    <tr style=\"text-align: right;\">\n",
              "      <th></th>\n",
              "      <th>Description</th>\n",
              "    </tr>\n",
              "  </thead>\n",
              "  <tbody>\n",
              "    <tr>\n",
              "      <th>0</th>\n",
              "      <td>Fears for T N pension after talks . Unions rep...</td>\n",
              "    </tr>\n",
              "    <tr>\n",
              "      <th>1</th>\n",
              "      <td>The Race is On : Second Private Team Sets Laun...</td>\n",
              "    </tr>\n",
              "    <tr>\n",
              "      <th>2</th>\n",
              "      <td>Ky. Company Wins Grant to take Peptides ( AFP ...</td>\n",
              "    </tr>\n",
              "    <tr>\n",
              "      <th>3</th>\n",
              "      <td>Prediction Unit Helps Forecast Wildfires (AP)....</td>\n",
              "    </tr>\n",
              "    <tr>\n",
              "      <th>4</th>\n",
              "      <td>Calif. Aims to Limit Farm - Related Smog ( AP ...</td>\n",
              "    </tr>\n",
              "  </tbody>\n",
              "</table>\n",
              "</div>"
            ]
          },
          "metadata": {
            "tags": []
          },
          "execution_count": 19
        }
      ]
    },
    {
      "cell_type": "markdown",
      "metadata": {
        "id": "4rQ0Ql1AgyBi",
        "colab_type": "text"
      },
      "source": [
        "Make all sample of the same size."
      ]
    },
    {
      "cell_type": "code",
      "metadata": {
        "id": "TEHBcR-wgieK",
        "colab_type": "code",
        "colab": {}
      },
      "source": [
        "test_lstm = test_lstm[:987]"
      ],
      "execution_count": 0,
      "outputs": []
    },
    {
      "cell_type": "code",
      "metadata": {
        "id": "iO4yb2BFgAS1",
        "colab_type": "code",
        "outputId": "3336a06a-82ca-4534-b26c-d2483c24e321",
        "colab": {
          "base_uri": "https://localhost:8080/",
          "height": 34
        }
      },
      "source": [
        "len(test_lstm)"
      ],
      "execution_count": 21,
      "outputs": [
        {
          "output_type": "execute_result",
          "data": {
            "text/plain": [
              "987"
            ]
          },
          "metadata": {
            "tags": []
          },
          "execution_count": 21
        }
      ]
    },
    {
      "cell_type": "markdown",
      "metadata": {
        "id": "rd0kmIofgFWp",
        "colab_type": "text"
      },
      "source": [
        "##BiLSTM Samples"
      ]
    },
    {
      "cell_type": "code",
      "metadata": {
        "id": "ttjZB91GgMkQ",
        "colab_type": "code",
        "outputId": "d7dab0ad-36d8-4471-9cd5-f4a8a8c73735",
        "colab": {
          "base_uri": "https://localhost:8080/",
          "height": 203
        }
      },
      "source": [
        "test_bilstm = pd.read_csv('BiLSTM_978.txt', sep='\\n', header=None)\n",
        "test_bilstm.columns = ['Description']\n",
        "\n",
        "test_bilstm.head()"
      ],
      "execution_count": 22,
      "outputs": [
        {
          "output_type": "execute_result",
          "data": {
            "text/plain": [
              "                                         Description\n",
              "0  Fears for T N pension after talks . Unions rep...\n",
              "1  The Race is On : Second individual Team Sets L...\n",
              "2  Ky. Company Wins Grant to consider Peptides ( ...\n",
              "3  Prediction Unit Helps Forecast Wildfires ( AP ...\n",
              "4  Calif. Aims to Limit Farm - Related Smog ( AP ..."
            ],
            "text/html": [
              "<div>\n",
              "<style scoped>\n",
              "    .dataframe tbody tr th:only-of-type {\n",
              "        vertical-align: middle;\n",
              "    }\n",
              "\n",
              "    .dataframe tbody tr th {\n",
              "        vertical-align: top;\n",
              "    }\n",
              "\n",
              "    .dataframe thead th {\n",
              "        text-align: right;\n",
              "    }\n",
              "</style>\n",
              "<table border=\"1\" class=\"dataframe\">\n",
              "  <thead>\n",
              "    <tr style=\"text-align: right;\">\n",
              "      <th></th>\n",
              "      <th>Description</th>\n",
              "    </tr>\n",
              "  </thead>\n",
              "  <tbody>\n",
              "    <tr>\n",
              "      <th>0</th>\n",
              "      <td>Fears for T N pension after talks . Unions rep...</td>\n",
              "    </tr>\n",
              "    <tr>\n",
              "      <th>1</th>\n",
              "      <td>The Race is On : Second individual Team Sets L...</td>\n",
              "    </tr>\n",
              "    <tr>\n",
              "      <th>2</th>\n",
              "      <td>Ky. Company Wins Grant to consider Peptides ( ...</td>\n",
              "    </tr>\n",
              "    <tr>\n",
              "      <th>3</th>\n",
              "      <td>Prediction Unit Helps Forecast Wildfires ( AP ...</td>\n",
              "    </tr>\n",
              "    <tr>\n",
              "      <th>4</th>\n",
              "      <td>Calif. Aims to Limit Farm - Related Smog ( AP ...</td>\n",
              "    </tr>\n",
              "  </tbody>\n",
              "</table>\n",
              "</div>"
            ]
          },
          "metadata": {
            "tags": []
          },
          "execution_count": 22
        }
      ]
    },
    {
      "cell_type": "code",
      "metadata": {
        "id": "gF_-2auZgXgq",
        "colab_type": "code",
        "outputId": "66a7a998-6801-4734-acae-ef681b730e79",
        "colab": {
          "base_uri": "https://localhost:8080/",
          "height": 203
        }
      },
      "source": [
        "test_bilstm['new_Description'] = test_bilstm['Description'].str.split('sub_rate').str[0]\n",
        "del test_bilstm['Description']\n",
        "test_bilstm.columns = ['Description']\n",
        "\n",
        "test_bilstm.head()"
      ],
      "execution_count": 23,
      "outputs": [
        {
          "output_type": "execute_result",
          "data": {
            "text/plain": [
              "                                         Description\n",
              "0  Fears for T N pension after talks . Unions rep...\n",
              "1  The Race is On : Second individual Team Sets L...\n",
              "2  Ky. Company Wins Grant to consider Peptides ( ...\n",
              "3  Prediction Unit Helps Forecast Wildfires ( AP ...\n",
              "4  Calif. Aims to Limit Farm - Related Smog ( AP ..."
            ],
            "text/html": [
              "<div>\n",
              "<style scoped>\n",
              "    .dataframe tbody tr th:only-of-type {\n",
              "        vertical-align: middle;\n",
              "    }\n",
              "\n",
              "    .dataframe tbody tr th {\n",
              "        vertical-align: top;\n",
              "    }\n",
              "\n",
              "    .dataframe thead th {\n",
              "        text-align: right;\n",
              "    }\n",
              "</style>\n",
              "<table border=\"1\" class=\"dataframe\">\n",
              "  <thead>\n",
              "    <tr style=\"text-align: right;\">\n",
              "      <th></th>\n",
              "      <th>Description</th>\n",
              "    </tr>\n",
              "  </thead>\n",
              "  <tbody>\n",
              "    <tr>\n",
              "      <th>0</th>\n",
              "      <td>Fears for T N pension after talks . Unions rep...</td>\n",
              "    </tr>\n",
              "    <tr>\n",
              "      <th>1</th>\n",
              "      <td>The Race is On : Second individual Team Sets L...</td>\n",
              "    </tr>\n",
              "    <tr>\n",
              "      <th>2</th>\n",
              "      <td>Ky. Company Wins Grant to consider Peptides ( ...</td>\n",
              "    </tr>\n",
              "    <tr>\n",
              "      <th>3</th>\n",
              "      <td>Prediction Unit Helps Forecast Wildfires ( AP ...</td>\n",
              "    </tr>\n",
              "    <tr>\n",
              "      <th>4</th>\n",
              "      <td>Calif. Aims to Limit Farm - Related Smog ( AP ...</td>\n",
              "    </tr>\n",
              "  </tbody>\n",
              "</table>\n",
              "</div>"
            ]
          },
          "metadata": {
            "tags": []
          },
          "execution_count": 23
        }
      ]
    },
    {
      "cell_type": "code",
      "metadata": {
        "id": "hoEPVwlmgeBQ",
        "colab_type": "code",
        "outputId": "64660fc1-c382-4a93-a544-82374f3d7cf6",
        "colab": {
          "base_uri": "https://localhost:8080/",
          "height": 34
        }
      },
      "source": [
        "len(test_bilstm)"
      ],
      "execution_count": 24,
      "outputs": [
        {
          "output_type": "execute_result",
          "data": {
            "text/plain": [
              "987"
            ]
          },
          "metadata": {
            "tags": []
          },
          "execution_count": 24
        }
      ]
    },
    {
      "cell_type": "markdown",
      "metadata": {
        "id": "ZVl8QoERq-E7",
        "colab_type": "text"
      },
      "source": [
        "#Vectorizing"
      ]
    },
    {
      "cell_type": "code",
      "metadata": {
        "id": "RdGDGt03p9MQ",
        "colab_type": "code",
        "outputId": "21032671-344b-4fff-e05f-1b18455e5d80",
        "colab": {
          "base_uri": "https://localhost:8080/",
          "height": 71
        }
      },
      "source": [
        "def tokenizersplit(str):\n",
        "    return str.split();\n",
        "\n",
        "tfidf = TfidfVectorizer(tokenizer=tokenizersplit, encoding='utf-8', min_df=2, ngram_range=(1, 2), max_features=25000)\n",
        "tfidf.fit(train['Description'])\n",
        "\n",
        "X_train = tfidf.transform(train['Description'])\n",
        "X_test_ag = tfidf.transform(test_ag['Description'])"
      ],
      "execution_count": 25,
      "outputs": [
        {
          "output_type": "stream",
          "text": [
            "C:\\Users\\xvlasol\\Anaconda3\\lib\\site-packages\\sklearn\\feature_extraction\\text.py:507: UserWarning: The parameter 'token_pattern' will not be used since 'tokenizer' is not None'\n",
            "  warnings.warn(\"The parameter 'token_pattern' will not be used\"\n"
          ],
          "name": "stderr"
        }
      ]
    },
    {
      "cell_type": "markdown",
      "metadata": {
        "id": "Pr7XZ9AXhcqJ",
        "colab_type": "text"
      },
      "source": [
        "##AG news dataset"
      ]
    },
    {
      "cell_type": "markdown",
      "metadata": {
        "id": "cq0BJtXth5D-",
        "colab_type": "text"
      },
      "source": [
        "##CNN sample"
      ]
    },
    {
      "cell_type": "code",
      "metadata": {
        "id": "3HQXBFz8h-Cj",
        "colab_type": "code",
        "colab": {}
      },
      "source": [
        "X_test_cnn = tfidf.transform(test_cnn['Description'])"
      ],
      "execution_count": 0,
      "outputs": []
    },
    {
      "cell_type": "markdown",
      "metadata": {
        "id": "gQqBss6kiChe",
        "colab_type": "text"
      },
      "source": [
        "##LSTM sample"
      ]
    },
    {
      "cell_type": "code",
      "metadata": {
        "id": "oIjhKzFaiGGB",
        "colab_type": "code",
        "colab": {}
      },
      "source": [
        "X_test_lstm = tfidf.transform(test_lstm['Description'])"
      ],
      "execution_count": 0,
      "outputs": []
    },
    {
      "cell_type": "markdown",
      "metadata": {
        "id": "IKQfYl2SiMU5",
        "colab_type": "text"
      },
      "source": [
        "##BiLSTM sample"
      ]
    },
    {
      "cell_type": "code",
      "metadata": {
        "id": "guk8U9AjiO-w",
        "colab_type": "code",
        "colab": {}
      },
      "source": [
        "X_test_bilstm = tfidf.transform(test_bilstm['Description'])"
      ],
      "execution_count": 0,
      "outputs": []
    },
    {
      "cell_type": "markdown",
      "metadata": {
        "id": "ZIOIkdA53D-s",
        "colab_type": "text"
      },
      "source": [
        "# Logistic regression model"
      ]
    },
    {
      "cell_type": "code",
      "metadata": {
        "id": "GkcMjrrusCg0",
        "colab_type": "code",
        "outputId": "12659337-99d8-4af8-ac4d-3cc52b0260c5",
        "colab": {
          "base_uri": "https://localhost:8080/",
          "height": 294
        }
      },
      "source": [
        "model = linear_model.LogisticRegression(verbose = 1)\n",
        "model.fit(X_train, y_train)"
      ],
      "execution_count": 0,
      "outputs": [
        {
          "output_type": "stream",
          "text": [
            "[Parallel(n_jobs=1)]: Using backend SequentialBackend with 1 concurrent workers.\n",
            "C:\\Users\\xvlasol\\Anaconda3\\lib\\site-packages\\sklearn\\linear_model\\_logistic.py:940: ConvergenceWarning: lbfgs failed to converge (status=1):\n",
            "STOP: TOTAL NO. of ITERATIONS REACHED LIMIT.\n",
            "\n",
            "Increase the number of iterations (max_iter) or scale the data as shown in:\n",
            "    https://scikit-learn.org/stable/modules/preprocessing.html\n",
            "Please also refer to the documentation for alternative solver options:\n",
            "    https://scikit-learn.org/stable/modules/linear_model.html#logistic-regression\n",
            "  extra_warning_msg=_LOGISTIC_SOLVER_CONVERGENCE_MSG)\n",
            "[Parallel(n_jobs=1)]: Done   1 out of   1 | elapsed:   16.5s finished\n"
          ],
          "name": "stderr"
        },
        {
          "output_type": "execute_result",
          "data": {
            "text/plain": [
              "LogisticRegression(C=1.0, class_weight=None, dual=False, fit_intercept=True,\n",
              "                   intercept_scaling=1, l1_ratio=None, max_iter=100,\n",
              "                   multi_class='auto', n_jobs=None, penalty='l2',\n",
              "                   random_state=None, solver='lbfgs', tol=0.0001, verbose=1,\n",
              "                   warm_start=False)"
            ]
          },
          "metadata": {
            "tags": []
          },
          "execution_count": 54
        }
      ]
    },
    {
      "cell_type": "markdown",
      "metadata": {
        "id": "-fexfPyhi-__",
        "colab_type": "text"
      },
      "source": [
        "##AG news dataset"
      ]
    },
    {
      "cell_type": "code",
      "metadata": {
        "id": "6RSFoauOj_o0",
        "colab_type": "code",
        "outputId": "b7d7137f-fba6-40df-ef78-c15b1f6d380e",
        "colab": {
          "base_uri": "https://localhost:8080/",
          "height": 206
        }
      },
      "source": [
        "y_pred_ag = model.predict(X_test_ag)\n",
        "\n",
        "print(metrics.classification_report(np.array(y_test), y_pred_ag, labels=[1, 2, 3, 4]))"
      ],
      "execution_count": 0,
      "outputs": [
        {
          "output_type": "stream",
          "text": [
            "              precision    recall  f1-score   support\n",
            "\n",
            "           1       0.93      0.86      0.90       264\n",
            "           2       0.93      0.97      0.95       270\n",
            "           3       0.79      0.87      0.83       204\n",
            "           4       0.89      0.84      0.86       249\n",
            "\n",
            "    accuracy                           0.89       987\n",
            "   macro avg       0.88      0.89      0.88       987\n",
            "weighted avg       0.89      0.89      0.89       987\n",
            "\n"
          ],
          "name": "stdout"
        }
      ]
    },
    {
      "cell_type": "markdown",
      "metadata": {
        "id": "slLNKgoDjHuX",
        "colab_type": "text"
      },
      "source": [
        "##CNN Samples"
      ]
    },
    {
      "cell_type": "code",
      "metadata": {
        "id": "hApAg4m7jCiw",
        "colab_type": "code",
        "outputId": "6764aac7-c820-46e8-abf7-fb1dc5948db2",
        "colab": {
          "base_uri": "https://localhost:8080/",
          "height": 206
        }
      },
      "source": [
        "y_pred_cnn = model.predict(X_test_cnn)\n",
        "\n",
        "print(metrics.classification_report(np.array(y_test), y_pred_cnn, labels=[1, 2, 3, 4]))"
      ],
      "execution_count": 0,
      "outputs": [
        {
          "output_type": "stream",
          "text": [
            "              precision    recall  f1-score   support\n",
            "\n",
            "           1       0.27      0.38      0.32       264\n",
            "           2       0.36      0.32      0.34       270\n",
            "           3       0.23      0.18      0.20       204\n",
            "           4       0.27      0.23      0.25       249\n",
            "\n",
            "    accuracy                           0.29       987\n",
            "   macro avg       0.28      0.28      0.28       987\n",
            "weighted avg       0.29      0.29      0.28       987\n",
            "\n"
          ],
          "name": "stdout"
        }
      ]
    },
    {
      "cell_type": "markdown",
      "metadata": {
        "id": "dn1V6tEsjOUn",
        "colab_type": "text"
      },
      "source": [
        "##LSTM Samples"
      ]
    },
    {
      "cell_type": "code",
      "metadata": {
        "id": "GxJLbLavjSkD",
        "colab_type": "code",
        "outputId": "8be2dcd7-28ec-4557-f257-c14aafeecee2",
        "colab": {
          "base_uri": "https://localhost:8080/",
          "height": 206
        }
      },
      "source": [
        "y_pred_lstm = model.predict(X_test_lstm)\n",
        "\n",
        "print(metrics.classification_report(np.array(y_test), y_pred_lstm, labels=[1, 2, 3, 4]))"
      ],
      "execution_count": 0,
      "outputs": [
        {
          "output_type": "stream",
          "text": [
            "              precision    recall  f1-score   support\n",
            "\n",
            "           1       0.49      0.70      0.58       264\n",
            "           2       0.79      0.52      0.62       270\n",
            "           3       0.70      0.64      0.67       204\n",
            "           4       0.59      0.57      0.58       249\n",
            "\n",
            "    accuracy                           0.61       987\n",
            "   macro avg       0.64      0.61      0.61       987\n",
            "weighted avg       0.64      0.61      0.61       987\n",
            "\n"
          ],
          "name": "stdout"
        }
      ]
    },
    {
      "cell_type": "markdown",
      "metadata": {
        "id": "yY8EtNjzlDZI",
        "colab_type": "text"
      },
      "source": [
        "##BiLSTM Samples"
      ]
    },
    {
      "cell_type": "code",
      "metadata": {
        "id": "39GJ9gsslJXW",
        "colab_type": "code",
        "outputId": "f9e334ab-c850-4d3f-c38a-efe1b86027a8",
        "colab": {
          "base_uri": "https://localhost:8080/",
          "height": 206
        }
      },
      "source": [
        "y_pred_bilstm = model.predict(X_test_bilstm)\n",
        "\n",
        "print(metrics.classification_report(np.array(y_test), y_pred_bilstm, labels=[1, 2, 3, 4]))"
      ],
      "execution_count": 0,
      "outputs": [
        {
          "output_type": "stream",
          "text": [
            "              precision    recall  f1-score   support\n",
            "\n",
            "           1       0.59      0.69      0.64       264\n",
            "           2       0.85      0.61      0.71       270\n",
            "           3       0.73      0.72      0.72       204\n",
            "           4       0.65      0.73      0.69       249\n",
            "\n",
            "    accuracy                           0.68       987\n",
            "   macro avg       0.70      0.69      0.69       987\n",
            "weighted avg       0.70      0.68      0.69       987\n",
            "\n"
          ],
          "name": "stdout"
        }
      ]
    },
    {
      "cell_type": "markdown",
      "metadata": {
        "id": "BZnCmqDily1r",
        "colab_type": "text"
      },
      "source": [
        "LR is trained on CNN samples show the worst result of the classification which means that AE technique based on CNN was the most succesful."
      ]
    },
    {
      "cell_type": "markdown",
      "metadata": {
        "id": "tvwwyjyd3JkV",
        "colab_type": "text"
      },
      "source": [
        "#Random forest model"
      ]
    },
    {
      "cell_type": "code",
      "metadata": {
        "id": "w7W7gkqL3Pys",
        "colab_type": "code",
        "colab": {}
      },
      "source": [
        "# # Import the model we are using\n",
        "# from sklearn.ensemble import RandomForestRegressor\n",
        "# # Instantiate model with 1000 decision trees\n",
        "# rf = RandomForestRegressor(n_estimators = 100, random_state = 42, n_jobs=-1, verbose = 2)\n",
        "# # Train the model on training data\n",
        "# rf.fit(X_train, y_train);"
      ],
      "execution_count": 0,
      "outputs": []
    },
    {
      "cell_type": "markdown",
      "metadata": {
        "id": "xjy6DUJh_g9P",
        "colab_type": "text"
      },
      "source": [
        "Made mistake and did not see that it was regression algorithm, but not the classification, as a result, wasted a lot of time, but sh*t happens("
      ]
    },
    {
      "cell_type": "code",
      "metadata": {
        "id": "VqLEDu7R7bQW",
        "colab_type": "code",
        "colab": {}
      },
      "source": [
        "from sklearn.ensemble import RandomForestClassifier\n",
        "\n",
        "clf = RandomForestClassifier(max_depth=100, random_state=0, verbose=2)\n",
        "clf.fit(X_train, y_train)"
      ],
      "execution_count": 0,
      "outputs": []
    },
    {
      "cell_type": "markdown",
      "metadata": {
        "id": "mvMs2JIQ9-fA",
        "colab_type": "text"
      },
      "source": [
        "##AG news dataset"
      ]
    },
    {
      "cell_type": "code",
      "metadata": {
        "id": "t-AoAzIo9koF",
        "colab_type": "code",
        "outputId": "4e722fda-5b9b-4452-e41f-d6a4acbbc39d",
        "colab": {
          "base_uri": "https://localhost:8080/",
          "height": 257
        }
      },
      "source": [
        "y_pred_RF_ag = clf.predict(X_test_ag)\n",
        "\n",
        "print(metrics.classification_report(np.array(y_test), y_pred_RF_ag, labels=[1, 2, 3, 4]))"
      ],
      "execution_count": 0,
      "outputs": [
        {
          "output_type": "stream",
          "text": [
            "              precision    recall  f1-score   support\n",
            "\n",
            "           1       0.88      0.83      0.85       264\n",
            "           2       0.89      0.94      0.91       270\n",
            "           3       0.77      0.77      0.77       204\n",
            "           4       0.80      0.79      0.79       249\n",
            "\n",
            "    accuracy                           0.84       987\n",
            "   macro avg       0.83      0.83      0.83       987\n",
            "weighted avg       0.84      0.84      0.84       987\n",
            "\n"
          ],
          "name": "stdout"
        },
        {
          "output_type": "stream",
          "text": [
            "[Parallel(n_jobs=1)]: Using backend SequentialBackend with 1 concurrent workers.\n",
            "[Parallel(n_jobs=1)]: Done   1 out of   1 | elapsed:    0.0s remaining:    0.0s\n",
            "[Parallel(n_jobs=1)]: Done 100 out of 100 | elapsed:    0.0s finished\n"
          ],
          "name": "stderr"
        }
      ]
    },
    {
      "cell_type": "markdown",
      "metadata": {
        "id": "bTGW2lkh_yVV",
        "colab_type": "text"
      },
      "source": [
        "##CNN Samples"
      ]
    },
    {
      "cell_type": "code",
      "metadata": {
        "id": "__ax4rql_1Wp",
        "colab_type": "code",
        "outputId": "e67bca8c-3f42-48df-8864-20616d1fd9de",
        "colab": {
          "base_uri": "https://localhost:8080/",
          "height": 257
        }
      },
      "source": [
        "y_pred_RF_cnn = clf.predict(X_test_cnn)\n",
        "\n",
        "print(metrics.classification_report(np.array(y_test), y_pred_RF_cnn, labels=[1, 2, 3, 4]))"
      ],
      "execution_count": 0,
      "outputs": [
        {
          "output_type": "stream",
          "text": [
            "              precision    recall  f1-score   support\n",
            "\n",
            "           1       0.24      0.37      0.29       264\n",
            "           2       0.33      0.19      0.24       270\n",
            "           3       0.28      0.17      0.21       204\n",
            "           4       0.29      0.36      0.32       249\n",
            "\n",
            "    accuracy                           0.28       987\n",
            "   macro avg       0.29      0.27      0.27       987\n",
            "weighted avg       0.29      0.28      0.27       987\n",
            "\n"
          ],
          "name": "stdout"
        },
        {
          "output_type": "stream",
          "text": [
            "[Parallel(n_jobs=1)]: Using backend SequentialBackend with 1 concurrent workers.\n",
            "[Parallel(n_jobs=1)]: Done   1 out of   1 | elapsed:    0.0s remaining:    0.0s\n",
            "[Parallel(n_jobs=1)]: Done 100 out of 100 | elapsed:    0.0s finished\n"
          ],
          "name": "stderr"
        }
      ]
    },
    {
      "cell_type": "markdown",
      "metadata": {
        "id": "5VWapFAOAFIX",
        "colab_type": "text"
      },
      "source": [
        "## LSTM Samples"
      ]
    },
    {
      "cell_type": "code",
      "metadata": {
        "id": "_k_qf62YAIQj",
        "colab_type": "code",
        "outputId": "fcd09148-4cd4-4b05-dec3-d3ad511f2c5a",
        "colab": {
          "base_uri": "https://localhost:8080/",
          "height": 257
        }
      },
      "source": [
        "y_pred_RF_lstm = clf.predict(X_test_lstm)\n",
        "\n",
        "print(metrics.classification_report(np.array(y_test), y_pred_RF_lstm, labels=[1, 2, 3, 4]))"
      ],
      "execution_count": 0,
      "outputs": [
        {
          "output_type": "stream",
          "text": [
            "              precision    recall  f1-score   support\n",
            "\n",
            "           1       0.32      0.54      0.40       264\n",
            "           2       0.66      0.33      0.44       270\n",
            "           3       0.71      0.45      0.55       204\n",
            "           4       0.37      0.41      0.38       249\n",
            "\n",
            "    accuracy                           0.43       987\n",
            "   macro avg       0.51      0.43      0.44       987\n",
            "weighted avg       0.50      0.43      0.44       987\n",
            "\n"
          ],
          "name": "stdout"
        },
        {
          "output_type": "stream",
          "text": [
            "[Parallel(n_jobs=1)]: Using backend SequentialBackend with 1 concurrent workers.\n",
            "[Parallel(n_jobs=1)]: Done   1 out of   1 | elapsed:    0.0s remaining:    0.0s\n",
            "[Parallel(n_jobs=1)]: Done 100 out of 100 | elapsed:    0.0s finished\n"
          ],
          "name": "stderr"
        }
      ]
    },
    {
      "cell_type": "markdown",
      "metadata": {
        "id": "vQvwV2oPAO5Z",
        "colab_type": "text"
      },
      "source": [
        "## BiLSTM Samples"
      ]
    },
    {
      "cell_type": "code",
      "metadata": {
        "id": "aM9VsXbaASdJ",
        "colab_type": "code",
        "outputId": "022a32b7-8b20-4293-c381-f7d7d8505f4d",
        "colab": {
          "base_uri": "https://localhost:8080/",
          "height": 257
        }
      },
      "source": [
        "y_pred_RF_lstm = clf.predict(X_test_lstm)\n",
        "\n",
        "print(metrics.classification_report(np.array(y_test), y_pred_RF_lstm, labels=[1, 2, 3, 4]))"
      ],
      "execution_count": 0,
      "outputs": [
        {
          "output_type": "stream",
          "text": [
            "              precision    recall  f1-score   support\n",
            "\n",
            "           1       0.32      0.54      0.40       264\n",
            "           2       0.66      0.33      0.44       270\n",
            "           3       0.71      0.45      0.55       204\n",
            "           4       0.37      0.41      0.38       249\n",
            "\n",
            "    accuracy                           0.43       987\n",
            "   macro avg       0.51      0.43      0.44       987\n",
            "weighted avg       0.50      0.43      0.44       987\n",
            "\n"
          ],
          "name": "stdout"
        },
        {
          "output_type": "stream",
          "text": [
            "[Parallel(n_jobs=1)]: Using backend SequentialBackend with 1 concurrent workers.\n",
            "[Parallel(n_jobs=1)]: Done   1 out of   1 | elapsed:    0.0s remaining:    0.0s\n",
            "[Parallel(n_jobs=1)]: Done 100 out of 100 | elapsed:    0.0s finished\n"
          ],
          "name": "stderr"
        }
      ]
    },
    {
      "cell_type": "markdown",
      "metadata": {
        "id": "Vb8nRgaQAZs4",
        "colab_type": "text"
      },
      "source": [
        "Again, AE algorithm based on cnn showed the best result."
      ]
    },
    {
      "cell_type": "markdown",
      "metadata": {
        "id": "vqHhpRHGAqJQ",
        "colab_type": "text"
      },
      "source": [
        "# Support Vector Machine"
      ]
    },
    {
      "cell_type": "code",
      "metadata": {
        "id": "l-fRWFQdA1oy",
        "colab_type": "code",
        "colab": {}
      },
      "source": [
        "from sklearn.model_selection import GridSearchCV\n",
        "from sklearn import svm"
      ],
      "execution_count": 0,
      "outputs": []
    },
    {
      "cell_type": "code",
      "metadata": {
        "id": "dxR-aw4npjlU",
        "colab_type": "code",
        "colab": {}
      },
      "source": [
        "def svc_param_selection(X, y, nfolds):\n",
        "    Cs = [0.01, 1, 10]\n",
        "    gammas = [0.01, 0.1, 1]\n",
        "    param_grid = {'C': Cs, 'gamma' : gammas}\n",
        "    grid_search = GridSearchCV(svm.SVC(decision_function_shape='ovr', kernel='rbf'), param_grid, cv=nfolds, verbose=2)\n",
        "    grid_search.fit(X, y)\n",
        "    grid_search.best_params_\n",
        "    return grid_search.best_params_"
      ],
      "execution_count": 0,
      "outputs": []
    },
    {
      "cell_type": "code",
      "metadata": {
        "id": "YAmVnVVNtjnP",
        "colab_type": "code",
        "colab": {
          "base_uri": "https://localhost:8080/",
          "height": 68
        },
        "outputId": "d3b7d946-c9ec-4130-8c8d-fc7f721ecc28"
      },
      "source": [
        "svc_param_selection(X_train, y_train, 10)"
      ],
      "execution_count": 0,
      "outputs": [
        {
          "output_type": "stream",
          "text": [
            "Fitting 10 folds for each of 9 candidates, totalling 90 fits\n",
            "[CV] C=0.01, gamma=0.01 ..............................................\n"
          ],
          "name": "stdout"
        },
        {
          "output_type": "stream",
          "text": [
            "[Parallel(n_jobs=1)]: Using backend SequentialBackend with 1 concurrent workers.\n"
          ],
          "name": "stderr"
        }
      ]
    }
  ]
}