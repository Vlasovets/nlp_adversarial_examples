{
  "nbformat": 4,
  "nbformat_minor": 0,
  "metadata": {
    "colab": {
      "name": "PWWS_lstm.ipynb",
      "provenance": [],
      "toc_visible": true,
      "authorship_tag": "ABX9TyNCRE/U5VnrSXnfTKj7+wR6",
      "include_colab_link": true
    },
    "kernelspec": {
      "name": "python3",
      "display_name": "Python 3"
    },
    "accelerator": "GPU"
  },
  "cells": [
    {
      "cell_type": "markdown",
      "metadata": {
        "id": "view-in-github",
        "colab_type": "text"
      },
      "source": [
        "<a href=\"https://colab.research.google.com/github/Vlasovets/nlp_adversarial_examples/blob/master/PWWS_lstm.ipynb\" target=\"_parent\"><img src=\"https://colab.research.google.com/assets/colab-badge.svg\" alt=\"Open In Colab\"/></a>"
      ]
    },
    {
      "cell_type": "code",
      "metadata": {
        "id": "6MSgaRJhm3ql",
        "colab_type": "code",
        "outputId": "bb62d6b4-faa4-46f6-89e4-6cfc1e34e8da",
        "colab": {
          "base_uri": "https://localhost:8080/",
          "height": 118
        }
      },
      "source": [
        "!git clone https://github.com/JHL-HUST/PWWS.git"
      ],
      "execution_count": 1,
      "outputs": [
        {
          "output_type": "stream",
          "text": [
            "Cloning into 'PWWS'...\n",
            "remote: Enumerating objects: 11, done.\u001b[K\n",
            "remote: Counting objects: 100% (11/11), done.\u001b[K\n",
            "remote: Compressing objects: 100% (11/11), done.\u001b[K\n",
            "remote: Total 53 (delta 4), reused 0 (delta 0), pack-reused 42\u001b[K\n",
            "Unpacking objects: 100% (53/53), done.\n"
          ],
          "name": "stdout"
        }
      ]
    },
    {
      "cell_type": "code",
      "metadata": {
        "id": "_WpyInKnnPs-",
        "colab_type": "code",
        "colab": {}
      },
      "source": [
        "!mkdir data_set"
      ],
      "execution_count": 0,
      "outputs": []
    },
    {
      "cell_type": "code",
      "metadata": {
        "id": "u9OOo0tXEATC",
        "colab_type": "code",
        "outputId": "d20dd3d7-5b08-4aad-93dc-e2df01f0d2da",
        "colab": {
          "base_uri": "https://localhost:8080/",
          "height": 34
        }
      },
      "source": [
        "%cd data_set/"
      ],
      "execution_count": 3,
      "outputs": [
        {
          "output_type": "stream",
          "text": [
            "/content/data_set\n"
          ],
          "name": "stdout"
        }
      ]
    },
    {
      "cell_type": "code",
      "metadata": {
        "id": "c7wwAyTxGWeK",
        "colab_type": "code",
        "outputId": "74b255b7-1449-44f9-c09c-f3e32ffcb4a4",
        "colab": {
          "base_uri": "https://localhost:8080/",
          "height": 101
        }
      },
      "source": [
        "!unzip ag_news_csv.zip"
      ],
      "execution_count": 4,
      "outputs": [
        {
          "output_type": "stream",
          "text": [
            "Archive:  ag_news_csv.zip\n",
            " extracting: ag_news_csv/classes.txt  \n",
            "  inflating: ag_news_csv/readme.txt  \n",
            "  inflating: ag_news_csv/test.csv    \n",
            "  inflating: ag_news_csv/train.csv   \n"
          ],
          "name": "stdout"
        }
      ]
    },
    {
      "cell_type": "code",
      "metadata": {
        "id": "Oy10sKU79A7L",
        "colab_type": "code",
        "colab": {}
      },
      "source": [
        "#!unzip aclImdb.zip"
      ],
      "execution_count": 0,
      "outputs": []
    },
    {
      "cell_type": "code",
      "metadata": {
        "id": "dRLO0HH89OB0",
        "colab_type": "code",
        "colab": {}
      },
      "source": [
        "#!unzip yahoo_10.zip"
      ],
      "execution_count": 0,
      "outputs": []
    },
    {
      "cell_type": "markdown",
      "metadata": {
        "id": "5ioCHl2nqv2T",
        "colab_type": "text"
      },
      "source": [
        "Upload glove text file"
      ]
    },
    {
      "cell_type": "code",
      "metadata": {
        "id": "oH1IW9YoAoWW",
        "colab_type": "code",
        "outputId": "e0eee4a6-909c-4462-93ff-78d570503e06",
        "colab": {
          "base_uri": "https://localhost:8080/",
          "height": 1000
        }
      },
      "source": [
        "%cd /content/PWWS\n",
        "!python3 training.py --model word_lstm --dataset agnews --level word"
      ],
      "execution_count": 7,
      "outputs": [
        {
          "output_type": "stream",
          "text": [
            "/content/PWWS\n",
            "Using TensorFlow backend.\n",
            "WARNING:tensorflow:From training.py:13: The name tf.ConfigProto is deprecated. Please use tf.compat.v1.ConfigProto instead.\n",
            "\n",
            "WARNING:tensorflow:From training.py:16: The name tf.Session is deprecated. Please use tf.compat.v1.Session instead.\n",
            "\n",
            "2020-03-06 18:00:19.111203: I tensorflow/core/platform/cpu_feature_guard.cc:142] Your CPU supports instructions that this TensorFlow binary was not compiled to use: AVX512F\n",
            "2020-03-06 18:00:19.115231: I tensorflow/core/platform/profile_utils/cpu_utils.cc:94] CPU Frequency: 2000155000 Hz\n",
            "2020-03-06 18:00:19.115459: I tensorflow/compiler/xla/service/service.cc:168] XLA service 0x6fc3180 initialized for platform Host (this does not guarantee that XLA will be used). Devices:\n",
            "2020-03-06 18:00:19.115488: I tensorflow/compiler/xla/service/service.cc:176]   StreamExecutor device (0): Host, Default Version\n",
            "2020-03-06 18:00:19.116414: I tensorflow/stream_executor/platform/default/dso_loader.cc:44] Successfully opened dynamic library libcuda.so.1\n",
            "2020-03-06 18:00:19.121194: E tensorflow/stream_executor/cuda/cuda_driver.cc:318] failed call to cuInit: CUDA_ERROR_NO_DEVICE: no CUDA-capable device is detected\n",
            "2020-03-06 18:00:19.121256: I tensorflow/stream_executor/cuda/cuda_diagnostics.cc:169] retrieving CUDA diagnostic information for host: ccdceacc171f\n",
            "2020-03-06 18:00:19.121283: I tensorflow/stream_executor/cuda/cuda_diagnostics.cc:176] hostname: ccdceacc171f\n",
            "2020-03-06 18:00:19.121369: I tensorflow/stream_executor/cuda/cuda_diagnostics.cc:200] libcuda reported version is: 418.67.0\n",
            "2020-03-06 18:00:19.121761: I tensorflow/stream_executor/cuda/cuda_diagnostics.cc:204] kernel reported version is: 418.67.0\n",
            "2020-03-06 18:00:19.121777: I tensorflow/stream_executor/cuda/cuda_diagnostics.cc:310] kernel version seems to match DSO: 418.67.0\n",
            "Processing AG's News dataset\n",
            "dataset: agnews ; model: word_lstm ; level: word\n",
            "X_train: (120000, 150)\n",
            "y_train: (120000, 4)\n",
            "X_test: (7600, 150)\n",
            "y_test: (7600, 4)\n",
            "Build word_lstm model...\n",
            "WARNING:tensorflow:From /usr/local/lib/python3.6/dist-packages/keras/backend/tensorflow_backend.py:66: The name tf.get_default_graph is deprecated. Please use tf.compat.v1.get_default_graph instead.\n",
            "\n",
            "Found 400000 word vectors.\n",
            "Preparing embedding matrix.\n",
            "WARNING:tensorflow:From /usr/local/lib/python3.6/dist-packages/keras/backend/tensorflow_backend.py:541: The name tf.placeholder is deprecated. Please use tf.compat.v1.placeholder instead.\n",
            "\n",
            "WARNING:tensorflow:From /usr/local/lib/python3.6/dist-packages/keras/backend/tensorflow_backend.py:4432: The name tf.random_uniform is deprecated. Please use tf.random.uniform instead.\n",
            "\n",
            "WARNING:tensorflow:From /usr/local/lib/python3.6/dist-packages/keras/backend/tensorflow_backend.py:190: The name tf.get_default_session is deprecated. Please use tf.compat.v1.get_default_session instead.\n",
            "\n",
            "WARNING:tensorflow:From /usr/local/lib/python3.6/dist-packages/keras/backend/tensorflow_backend.py:207: The name tf.global_variables is deprecated. Please use tf.compat.v1.global_variables instead.\n",
            "\n",
            "WARNING:tensorflow:From /usr/local/lib/python3.6/dist-packages/keras/backend/tensorflow_backend.py:216: The name tf.is_variable_initialized is deprecated. Please use tf.compat.v1.is_variable_initialized instead.\n",
            "\n",
            "WARNING:tensorflow:From /usr/local/lib/python3.6/dist-packages/keras/backend/tensorflow_backend.py:223: The name tf.variables_initializer is deprecated. Please use tf.compat.v1.variables_initializer instead.\n",
            "\n",
            "WARNING:tensorflow:From /usr/local/lib/python3.6/dist-packages/keras/backend/tensorflow_backend.py:148: The name tf.placeholder_with_default is deprecated. Please use tf.compat.v1.placeholder_with_default instead.\n",
            "\n",
            "WARNING:tensorflow:From /usr/local/lib/python3.6/dist-packages/keras/backend/tensorflow_backend.py:3733: calling dropout (from tensorflow.python.ops.nn_ops) with keep_prob is deprecated and will be removed in a future version.\n",
            "Instructions for updating:\n",
            "Please use `rate` instead of `keep_prob`. Rate should be set to `rate = 1 - keep_prob`.\n",
            "WARNING:tensorflow:From /usr/local/lib/python3.6/dist-packages/keras/optimizers.py:793: The name tf.train.Optimizer is deprecated. Please use tf.compat.v1.train.Optimizer instead.\n",
            "\n",
            "WARNING:tensorflow:From /usr/local/lib/python3.6/dist-packages/keras/backend/tensorflow_backend.py:3576: The name tf.log is deprecated. Please use tf.math.log instead.\n",
            "\n",
            "Train...\n",
            "batch_size:  64 ; epochs:  30\n",
            "WARNING:tensorflow:From /usr/local/lib/python3.6/dist-packages/tensorflow_core/python/ops/math_grad.py:1424: where (from tensorflow.python.ops.array_ops) is deprecated and will be removed in a future version.\n",
            "Instructions for updating:\n",
            "Use tf.where in 2.0, which has the same broadcast rule as np.where\n",
            "WARNING:tensorflow:From /usr/local/lib/python3.6/dist-packages/keras/backend/tensorflow_backend.py:1033: The name tf.assign_add is deprecated. Please use tf.compat.v1.assign_add instead.\n",
            "\n",
            "WARNING:tensorflow:From /usr/local/lib/python3.6/dist-packages/keras/backend/tensorflow_backend.py:1020: The name tf.assign is deprecated. Please use tf.compat.v1.assign instead.\n",
            "\n",
            "Train on 96000 samples, validate on 24000 samples\n",
            "WARNING:tensorflow:From /usr/local/lib/python3.6/dist-packages/keras/callbacks.py:1122: The name tf.summary.merge_all is deprecated. Please use tf.compat.v1.summary.merge_all instead.\n",
            "\n",
            "WARNING:tensorflow:From /usr/local/lib/python3.6/dist-packages/keras/callbacks.py:1125: The name tf.summary.FileWriter is deprecated. Please use tf.compat.v1.summary.FileWriter instead.\n",
            "\n",
            "Epoch 1/30\n",
            "96000/96000 [==============================] - 435s 5ms/step - loss: 1.3864 - acc: 0.2519 - val_loss: 1.3858 - val_acc: 0.2470\n",
            "WARNING:tensorflow:From /usr/local/lib/python3.6/dist-packages/keras/callbacks.py:1265: The name tf.Summary is deprecated. Please use tf.compat.v1.Summary instead.\n",
            "\n",
            "Epoch 2/30\n",
            "96000/96000 [==============================] - 426s 4ms/step - loss: 1.0785 - acc: 0.4651 - val_loss: 0.4662 - val_acc: 0.8486\n",
            "Epoch 3/30\n",
            "96000/96000 [==============================] - 428s 4ms/step - loss: 0.4910 - acc: 0.8421 - val_loss: 0.4046 - val_acc: 0.8683\n",
            "Epoch 4/30\n",
            "96000/96000 [==============================] - 417s 4ms/step - loss: 0.4302 - acc: 0.8605 - val_loss: 0.3630 - val_acc: 0.8827\n",
            "Epoch 5/30\n",
            "96000/96000 [==============================] - 411s 4ms/step - loss: 0.3949 - acc: 0.8690 - val_loss: 0.3459 - val_acc: 0.8847\n",
            "Epoch 6/30\n",
            "96000/96000 [==============================] - 433s 5ms/step - loss: 0.3728 - acc: 0.8777 - val_loss: 0.3207 - val_acc: 0.8923\n",
            "Epoch 7/30\n",
            "96000/96000 [==============================] - 435s 5ms/step - loss: 0.3541 - acc: 0.8832 - val_loss: 0.3141 - val_acc: 0.8962\n",
            "Epoch 8/30\n",
            "96000/96000 [==============================] - 429s 4ms/step - loss: 0.3412 - acc: 0.8868 - val_loss: 0.3056 - val_acc: 0.8982\n",
            "Epoch 9/30\n",
            "96000/96000 [==============================] - 430s 4ms/step - loss: 0.3305 - acc: 0.8900 - val_loss: 0.3013 - val_acc: 0.8993\n",
            "Epoch 10/30\n",
            "96000/96000 [==============================] - 427s 4ms/step - loss: 0.3251 - acc: 0.8912 - val_loss: 0.2911 - val_acc: 0.9024\n",
            "Epoch 11/30\n",
            "96000/96000 [==============================] - 420s 4ms/step - loss: 0.3172 - acc: 0.8941 - val_loss: 0.2865 - val_acc: 0.9035\n",
            "Epoch 12/30\n",
            "96000/96000 [==============================] - 416s 4ms/step - loss: 0.3089 - acc: 0.8955 - val_loss: 0.2855 - val_acc: 0.9042\n",
            "Epoch 13/30\n",
            "96000/96000 [==============================] - 410s 4ms/step - loss: 0.3042 - acc: 0.8982 - val_loss: 0.2803 - val_acc: 0.9062\n",
            "Epoch 14/30\n",
            "96000/96000 [==============================] - 418s 4ms/step - loss: 0.2977 - acc: 0.9004 - val_loss: 0.2821 - val_acc: 0.9057\n",
            "Epoch 15/30\n",
            "96000/96000 [==============================] - 433s 5ms/step - loss: 0.2940 - acc: 0.9012 - val_loss: 0.2734 - val_acc: 0.9085\n",
            "Epoch 16/30\n",
            "96000/96000 [==============================] - 412s 4ms/step - loss: 0.2918 - acc: 0.9021 - val_loss: 0.2698 - val_acc: 0.9087\n",
            "Epoch 17/30\n",
            "96000/96000 [==============================] - 379s 4ms/step - loss: 0.2893 - acc: 0.9030 - val_loss: 0.2674 - val_acc: 0.9091\n",
            "Epoch 18/30\n",
            "96000/96000 [==============================] - 448s 5ms/step - loss: 0.2846 - acc: 0.9037 - val_loss: 0.2666 - val_acc: 0.9095\n",
            "Epoch 19/30\n",
            "96000/96000 [==============================] - 408s 4ms/step - loss: 0.2804 - acc: 0.9057 - val_loss: 0.2651 - val_acc: 0.9105\n",
            "Epoch 20/30\n",
            "96000/96000 [==============================] - 396s 4ms/step - loss: 0.2780 - acc: 0.9061 - val_loss: 0.2666 - val_acc: 0.9101\n",
            "Epoch 21/30\n",
            "96000/96000 [==============================] - 410s 4ms/step - loss: 0.2734 - acc: 0.9077 - val_loss: 0.2612 - val_acc: 0.9119\n",
            "Epoch 22/30\n",
            "96000/96000 [==============================] - 407s 4ms/step - loss: 0.2698 - acc: 0.9097 - val_loss: 0.2616 - val_acc: 0.9124\n",
            "Epoch 23/30\n",
            "96000/96000 [==============================] - 414s 4ms/step - loss: 0.2711 - acc: 0.9087 - val_loss: 0.2600 - val_acc: 0.9123\n",
            "Epoch 24/30\n",
            "96000/96000 [==============================] - 413s 4ms/step - loss: 0.2670 - acc: 0.9094 - val_loss: 0.2572 - val_acc: 0.9137\n",
            "Epoch 25/30\n",
            "96000/96000 [==============================] - 408s 4ms/step - loss: 0.2621 - acc: 0.9099 - val_loss: 0.2555 - val_acc: 0.9125\n",
            "Epoch 26/30\n",
            "96000/96000 [==============================] - 403s 4ms/step - loss: 0.2622 - acc: 0.9106 - val_loss: 0.2524 - val_acc: 0.9139\n",
            "Epoch 27/30\n",
            "96000/96000 [==============================] - 398s 4ms/step - loss: 0.2610 - acc: 0.9113 - val_loss: 0.2534 - val_acc: 0.9138\n",
            "Epoch 28/30\n",
            "96000/96000 [==============================] - 431s 4ms/step - loss: 0.2585 - acc: 0.9123 - val_loss: 0.2523 - val_acc: 0.9140\n",
            "Epoch 29/30\n",
            "96000/96000 [==============================] - 427s 4ms/step - loss: 0.2570 - acc: 0.9123 - val_loss: 0.2538 - val_acc: 0.9145\n",
            "Epoch 30/30\n",
            "96000/96000 [==============================] - 424s 4ms/step - loss: 0.2548 - acc: 0.9128 - val_loss: 0.2535 - val_acc: 0.9143\n",
            "7600/7600 [==============================] - 8s 1ms/step\n",
            "test_loss: 0.253261, accuracy: 0.916184\n",
            "Saving model weights...\n"
          ],
          "name": "stdout"
        }
      ]
    },
    {
      "cell_type": "markdown",
      "metadata": {
        "id": "S2kAmQb5xDM2",
        "colab_type": "text"
      },
      "source": [
        "put the model into logs/agnews/word/lstm"
      ]
    },
    {
      "cell_type": "code",
      "metadata": {
        "id": "hMGfoaTxKabd",
        "colab_type": "code",
        "outputId": "5d67b0a2-dec3-4337-d448-af7b06b2f257",
        "colab": {
          "base_uri": "https://localhost:8080/",
          "height": 67
        }
      },
      "source": [
        "import nltk\n",
        "nltk.download('wordnet')"
      ],
      "execution_count": 0,
      "outputs": [
        {
          "output_type": "stream",
          "text": [
            "[nltk_data] Downloading package wordnet to /root/nltk_data...\n",
            "[nltk_data]   Package wordnet is already up-to-date!\n"
          ],
          "name": "stdout"
        },
        {
          "output_type": "execute_result",
          "data": {
            "text/plain": [
              "True"
            ]
          },
          "metadata": {
            "tags": []
          },
          "execution_count": 10
        }
      ]
    },
    {
      "cell_type": "code",
      "metadata": {
        "id": "OZPCdyFlIK4w",
        "colab_type": "code",
        "outputId": "8f3d5062-0767-4e44-9887-31a28dd46b9c",
        "colab": {
          "base_uri": "https://localhost:8080/",
          "height": 1000
        }
      },
      "source": [
        "!python3 fool.py --model word_bdlstm --dataset agnews --level word"
      ],
      "execution_count": 0,
      "outputs": [
        {
          "output_type": "stream",
          "text": [
            "Using TensorFlow backend.\n",
            "WARNING:tensorflow:From fool.py:20: The name tf.ConfigProto is deprecated. Please use tf.compat.v1.ConfigProto instead.\n",
            "\n",
            "WARNING:tensorflow:From fool.py:22: The name tf.Session is deprecated. Please use tf.compat.v1.Session instead.\n",
            "\n",
            "2020-03-06 14:07:39.197691: I tensorflow/core/platform/profile_utils/cpu_utils.cc:94] CPU Frequency: 2300000000 Hz\n",
            "2020-03-06 14:07:39.197939: I tensorflow/compiler/xla/service/service.cc:168] XLA service 0x7672700 initialized for platform Host (this does not guarantee that XLA will be used). Devices:\n",
            "2020-03-06 14:07:39.197976: I tensorflow/compiler/xla/service/service.cc:176]   StreamExecutor device (0): Host, Default Version\n",
            "2020-03-06 14:07:39.198968: I tensorflow/stream_executor/platform/default/dso_loader.cc:44] Successfully opened dynamic library libcuda.so.1\n",
            "2020-03-06 14:07:39.303632: I tensorflow/stream_executor/cuda/cuda_gpu_executor.cc:983] successful NUMA node read from SysFS had negative value (-1), but there must be at least one NUMA node, so returning NUMA node zero\n",
            "2020-03-06 14:07:39.304670: I tensorflow/compiler/xla/service/service.cc:168] XLA service 0x7672e00 initialized for platform CUDA (this does not guarantee that XLA will be used). Devices:\n",
            "2020-03-06 14:07:39.304701: I tensorflow/compiler/xla/service/service.cc:176]   StreamExecutor device (0): Tesla P100-PCIE-16GB, Compute Capability 6.0\n",
            "2020-03-06 14:07:39.304999: I tensorflow/stream_executor/cuda/cuda_gpu_executor.cc:983] successful NUMA node read from SysFS had negative value (-1), but there must be at least one NUMA node, so returning NUMA node zero\n",
            "2020-03-06 14:07:39.305889: I tensorflow/core/common_runtime/gpu/gpu_device.cc:1618] Found device 0 with properties: \n",
            "name: Tesla P100-PCIE-16GB major: 6 minor: 0 memoryClockRate(GHz): 1.3285\n",
            "pciBusID: 0000:00:04.0\n",
            "2020-03-06 14:07:39.305975: I tensorflow/stream_executor/platform/default/dso_loader.cc:44] Successfully opened dynamic library libcudart.so.10.1\n",
            "2020-03-06 14:07:39.306051: I tensorflow/stream_executor/platform/default/dso_loader.cc:44] Successfully opened dynamic library libcublas.so.10\n",
            "2020-03-06 14:07:39.306091: I tensorflow/stream_executor/platform/default/dso_loader.cc:44] Successfully opened dynamic library libcufft.so.10\n",
            "2020-03-06 14:07:39.306128: I tensorflow/stream_executor/platform/default/dso_loader.cc:44] Successfully opened dynamic library libcurand.so.10\n",
            "2020-03-06 14:07:39.306166: I tensorflow/stream_executor/platform/default/dso_loader.cc:44] Successfully opened dynamic library libcusolver.so.10\n",
            "2020-03-06 14:07:39.306201: I tensorflow/stream_executor/platform/default/dso_loader.cc:44] Successfully opened dynamic library libcusparse.so.10\n",
            "2020-03-06 14:07:39.306242: I tensorflow/stream_executor/platform/default/dso_loader.cc:44] Successfully opened dynamic library libcudnn.so.7\n",
            "2020-03-06 14:07:39.306335: I tensorflow/stream_executor/cuda/cuda_gpu_executor.cc:983] successful NUMA node read from SysFS had negative value (-1), but there must be at least one NUMA node, so returning NUMA node zero\n",
            "2020-03-06 14:07:39.307246: I tensorflow/stream_executor/cuda/cuda_gpu_executor.cc:983] successful NUMA node read from SysFS had negative value (-1), but there must be at least one NUMA node, so returning NUMA node zero\n",
            "2020-03-06 14:07:39.308087: I tensorflow/core/common_runtime/gpu/gpu_device.cc:1746] Adding visible gpu devices: 0\n",
            "2020-03-06 14:07:39.308147: I tensorflow/stream_executor/platform/default/dso_loader.cc:44] Successfully opened dynamic library libcudart.so.10.1\n",
            "2020-03-06 14:07:39.332235: I tensorflow/core/common_runtime/gpu/gpu_device.cc:1159] Device interconnect StreamExecutor with strength 1 edge matrix:\n",
            "2020-03-06 14:07:39.332273: I tensorflow/core/common_runtime/gpu/gpu_device.cc:1165]      0 \n",
            "2020-03-06 14:07:39.332287: I tensorflow/core/common_runtime/gpu/gpu_device.cc:1178] 0:   N \n",
            "2020-03-06 14:07:39.332518: I tensorflow/stream_executor/cuda/cuda_gpu_executor.cc:983] successful NUMA node read from SysFS had negative value (-1), but there must be at least one NUMA node, so returning NUMA node zero\n",
            "2020-03-06 14:07:39.333455: I tensorflow/stream_executor/cuda/cuda_gpu_executor.cc:983] successful NUMA node read from SysFS had negative value (-1), but there must be at least one NUMA node, so returning NUMA node zero\n",
            "2020-03-06 14:07:39.334329: I tensorflow/core/common_runtime/gpu/gpu_device.cc:1304] Created TensorFlow device (/job:localhost/replica:0/task:0/device:GPU:0 with 15209 MB memory) -> physical GPU (device: 0, name: Tesla P100-PCIE-16GB, pci bus id: 0000:00:04.0, compute capability: 6.0)\n",
            "clean_samples_cap: 10\n",
            "Processing AG's News dataset\n",
            "Build word_bdlstm model...\n",
            "WARNING:tensorflow:From /usr/local/lib/python3.6/dist-packages/keras/backend/tensorflow_backend.py:66: The name tf.get_default_graph is deprecated. Please use tf.compat.v1.get_default_graph instead.\n",
            "\n",
            "WARNING:tensorflow:From /usr/local/lib/python3.6/dist-packages/keras/backend/tensorflow_backend.py:541: The name tf.placeholder is deprecated. Please use tf.compat.v1.placeholder instead.\n",
            "\n",
            "WARNING:tensorflow:From /usr/local/lib/python3.6/dist-packages/keras/backend/tensorflow_backend.py:4432: The name tf.random_uniform is deprecated. Please use tf.random.uniform instead.\n",
            "\n",
            "WARNING:tensorflow:From /usr/local/lib/python3.6/dist-packages/keras/backend/tensorflow_backend.py:148: The name tf.placeholder_with_default is deprecated. Please use tf.compat.v1.placeholder_with_default instead.\n",
            "\n",
            "WARNING:tensorflow:From /usr/local/lib/python3.6/dist-packages/keras/backend/tensorflow_backend.py:3733: calling dropout (from tensorflow.python.ops.nn_ops) with keep_prob is deprecated and will be removed in a future version.\n",
            "Instructions for updating:\n",
            "Please use `rate` instead of `keep_prob`. Rate should be set to `rate = 1 - keep_prob`.\n",
            "WARNING:tensorflow:From /usr/local/lib/python3.6/dist-packages/keras/optimizers.py:793: The name tf.train.Optimizer is deprecated. Please use tf.compat.v1.train.Optimizer instead.\n",
            "\n",
            "WARNING:tensorflow:From /usr/local/lib/python3.6/dist-packages/keras/backend/tensorflow_backend.py:3576: The name tf.log is deprecated. Please use tf.math.log instead.\n",
            "\n",
            "Traceback (most recent call last):\n",
            "  File \"fool.py\", line 157, in <module>\n",
            "    fool_text_classifier()\n",
            "  File \"fool.py\", line 99, in fool_text_classifier\n",
            "    model.load_weights(model_path)\n",
            "  File \"/usr/local/lib/python3.6/dist-packages/keras/engine/saving.py\", line 458, in load_wrapper\n",
            "    return load_function(*args, **kwargs)\n",
            "  File \"/usr/local/lib/python3.6/dist-packages/keras/engine/network.py\", line 1208, in load_weights\n",
            "    with h5py.File(filepath, mode='r') as f:\n",
            "  File \"/usr/local/lib/python3.6/dist-packages/h5py/_hl/files.py\", line 312, in __init__\n",
            "    fid = make_fid(name, mode, userblock_size, fapl, swmr=swmr)\n",
            "  File \"/usr/local/lib/python3.6/dist-packages/h5py/_hl/files.py\", line 142, in make_fid\n",
            "    fid = h5f.open(name, flags, fapl=fapl)\n",
            "  File \"h5py/_objects.pyx\", line 54, in h5py._objects.with_phil.wrapper\n",
            "  File \"h5py/_objects.pyx\", line 55, in h5py._objects.with_phil.wrapper\n",
            "  File \"h5py/h5f.pyx\", line 78, in h5py.h5f.open\n",
            "OSError: Unable to open file (unable to open file: name = './runs/agnews/word_bdlstm.dat', errno = 2, error message = 'No such file or directory', flags = 0, o_flags = 0)\n"
          ],
          "name": "stdout"
        }
      ]
    },
    {
      "cell_type": "code",
      "metadata": {
        "id": "PSZ4xPsTwRZO",
        "colab_type": "code",
        "outputId": "5f87f38c-e791-476b-81df-ade410957389",
        "colab": {
          "base_uri": "https://localhost:8080/",
          "height": 1000
        }
      },
      "source": [
        "%cd /content/PWWS\n",
        "!python3 evaluate_fool_results.py"
      ],
      "execution_count": 0,
      "outputs": [
        {
          "output_type": "stream",
          "text": [
            "/content/PWWS\n",
            "Using TensorFlow backend.\n",
            "WARNING:tensorflow:From evaluate_fool_results.py:17: The name tf.ConfigProto is deprecated. Please use tf.compat.v1.ConfigProto instead.\n",
            "\n",
            "WARNING:tensorflow:From evaluate_fool_results.py:19: The name tf.Session is deprecated. Please use tf.compat.v1.Session instead.\n",
            "\n",
            "2020-03-05 13:54:08.341990: I tensorflow/core/platform/profile_utils/cpu_utils.cc:94] CPU Frequency: 2200000000 Hz\n",
            "2020-03-05 13:54:08.342206: I tensorflow/compiler/xla/service/service.cc:168] XLA service 0x743cfc0 initialized for platform Host (this does not guarantee that XLA will be used). Devices:\n",
            "2020-03-05 13:54:08.342239: I tensorflow/compiler/xla/service/service.cc:176]   StreamExecutor device (0): Host, Default Version\n",
            "2020-03-05 13:54:08.343132: I tensorflow/stream_executor/platform/default/dso_loader.cc:44] Successfully opened dynamic library libcuda.so.1\n",
            "2020-03-05 13:54:08.450669: I tensorflow/stream_executor/cuda/cuda_gpu_executor.cc:983] successful NUMA node read from SysFS had negative value (-1), but there must be at least one NUMA node, so returning NUMA node zero\n",
            "2020-03-05 13:54:08.451165: I tensorflow/compiler/xla/service/service.cc:168] XLA service 0x743ce00 initialized for platform CUDA (this does not guarantee that XLA will be used). Devices:\n",
            "2020-03-05 13:54:08.451201: I tensorflow/compiler/xla/service/service.cc:176]   StreamExecutor device (0): Tesla P4, Compute Capability 6.1\n",
            "2020-03-05 13:54:08.451347: I tensorflow/stream_executor/cuda/cuda_gpu_executor.cc:983] successful NUMA node read from SysFS had negative value (-1), but there must be at least one NUMA node, so returning NUMA node zero\n",
            "2020-03-05 13:54:08.451713: I tensorflow/core/common_runtime/gpu/gpu_device.cc:1618] Found device 0 with properties: \n",
            "name: Tesla P4 major: 6 minor: 1 memoryClockRate(GHz): 1.1135\n",
            "pciBusID: 0000:00:04.0\n",
            "2020-03-05 13:54:08.451787: I tensorflow/stream_executor/platform/default/dso_loader.cc:44] Successfully opened dynamic library libcudart.so.10.1\n",
            "2020-03-05 13:54:08.451837: I tensorflow/stream_executor/platform/default/dso_loader.cc:44] Successfully opened dynamic library libcublas.so.10\n",
            "2020-03-05 13:54:08.451902: I tensorflow/stream_executor/platform/default/dso_loader.cc:44] Successfully opened dynamic library libcufft.so.10\n",
            "2020-03-05 13:54:08.451938: I tensorflow/stream_executor/platform/default/dso_loader.cc:44] Successfully opened dynamic library libcurand.so.10\n",
            "2020-03-05 13:54:08.451978: I tensorflow/stream_executor/platform/default/dso_loader.cc:44] Successfully opened dynamic library libcusolver.so.10\n",
            "2020-03-05 13:54:08.452010: I tensorflow/stream_executor/platform/default/dso_loader.cc:44] Successfully opened dynamic library libcusparse.so.10\n",
            "2020-03-05 13:54:08.452060: I tensorflow/stream_executor/platform/default/dso_loader.cc:44] Successfully opened dynamic library libcudnn.so.7\n",
            "2020-03-05 13:54:08.452126: I tensorflow/stream_executor/cuda/cuda_gpu_executor.cc:983] successful NUMA node read from SysFS had negative value (-1), but there must be at least one NUMA node, so returning NUMA node zero\n",
            "2020-03-05 13:54:08.452510: I tensorflow/stream_executor/cuda/cuda_gpu_executor.cc:983] successful NUMA node read from SysFS had negative value (-1), but there must be at least one NUMA node, so returning NUMA node zero\n",
            "2020-03-05 13:54:08.452819: I tensorflow/core/common_runtime/gpu/gpu_device.cc:1746] Adding visible gpu devices: 0\n",
            "2020-03-05 13:54:08.452876: I tensorflow/stream_executor/platform/default/dso_loader.cc:44] Successfully opened dynamic library libcudart.so.10.1\n",
            "2020-03-05 13:54:08.477448: I tensorflow/core/common_runtime/gpu/gpu_device.cc:1159] Device interconnect StreamExecutor with strength 1 edge matrix:\n",
            "2020-03-05 13:54:08.477489: I tensorflow/core/common_runtime/gpu/gpu_device.cc:1165]      0 \n",
            "2020-03-05 13:54:08.477501: I tensorflow/core/common_runtime/gpu/gpu_device.cc:1178] 0:   N \n",
            "2020-03-05 13:54:08.477629: I tensorflow/stream_executor/cuda/cuda_gpu_executor.cc:983] successful NUMA node read from SysFS had negative value (-1), but there must be at least one NUMA node, so returning NUMA node zero\n",
            "2020-03-05 13:54:08.478006: I tensorflow/stream_executor/cuda/cuda_gpu_executor.cc:983] successful NUMA node read from SysFS had negative value (-1), but there must be at least one NUMA node, so returning NUMA node zero\n",
            "2020-03-05 13:54:08.478359: I tensorflow/core/common_runtime/gpu/gpu_device.cc:1304] Created TensorFlow device (/job:localhost/replica:0/task:0/device:GPU:0 with 7116 MB memory) -> physical GPU (device: 0, name: Tesla P4, pci bus id: 0000:00:04.0, compute capability: 6.1)\n",
            "Processing IMDB dataset\n",
            "Build word_cnn model...\n",
            "WARNING:tensorflow:From /usr/local/lib/python3.6/dist-packages/keras/backend/tensorflow_backend.py:66: The name tf.get_default_graph is deprecated. Please use tf.compat.v1.get_default_graph instead.\n",
            "\n",
            "WARNING:tensorflow:From /usr/local/lib/python3.6/dist-packages/keras/backend/tensorflow_backend.py:541: The name tf.placeholder is deprecated. Please use tf.compat.v1.placeholder instead.\n",
            "\n",
            "WARNING:tensorflow:From /usr/local/lib/python3.6/dist-packages/keras/backend/tensorflow_backend.py:4432: The name tf.random_uniform is deprecated. Please use tf.random.uniform instead.\n",
            "\n",
            "WARNING:tensorflow:From /usr/local/lib/python3.6/dist-packages/keras/backend/tensorflow_backend.py:148: The name tf.placeholder_with_default is deprecated. Please use tf.compat.v1.placeholder_with_default instead.\n",
            "\n",
            "WARNING:tensorflow:From /usr/local/lib/python3.6/dist-packages/keras/backend/tensorflow_backend.py:3733: calling dropout (from tensorflow.python.ops.nn_ops) with keep_prob is deprecated and will be removed in a future version.\n",
            "Instructions for updating:\n",
            "Please use `rate` instead of `keep_prob`. Rate should be set to `rate = 1 - keep_prob`.\n",
            "WARNING:tensorflow:From /usr/local/lib/python3.6/dist-packages/keras/optimizers.py:793: The name tf.train.Optimizer is deprecated. Please use tf.compat.v1.train.Optimizer instead.\n",
            "\n",
            "WARNING:tensorflow:From /usr/local/lib/python3.6/dist-packages/keras/backend/tensorflow_backend.py:3657: The name tf.log is deprecated. Please use tf.math.log instead.\n",
            "\n",
            "WARNING:tensorflow:From /usr/local/lib/python3.6/dist-packages/tensorflow_core/python/ops/nn_impl.py:183: where (from tensorflow.python.ops.array_ops) is deprecated and will be removed in a future version.\n",
            "Instructions for updating:\n",
            "Use tf.where in 2.0, which has the same broadcast rule as np.where\n",
            "Traceback (most recent call last):\n",
            "  File \"evaluate_fool_results.py\", line 118, in <module>\n",
            "    model.load_weights(model_path)\n",
            "  File \"/usr/local/lib/python3.6/dist-packages/keras/engine/saving.py\", line 458, in load_wrapper\n",
            "    return load_function(*args, **kwargs)\n",
            "  File \"/usr/local/lib/python3.6/dist-packages/keras/engine/network.py\", line 1208, in load_weights\n",
            "    with h5py.File(filepath, mode='r') as f:\n",
            "  File \"/usr/local/lib/python3.6/dist-packages/h5py/_hl/files.py\", line 312, in __init__\n",
            "    fid = make_fid(name, mode, userblock_size, fapl, swmr=swmr)\n",
            "  File \"/usr/local/lib/python3.6/dist-packages/h5py/_hl/files.py\", line 142, in make_fid\n",
            "    fid = h5f.open(name, flags, fapl=fapl)\n",
            "  File \"h5py/_objects.pyx\", line 54, in h5py._objects.with_phil.wrapper\n",
            "  File \"h5py/_objects.pyx\", line 55, in h5py._objects.with_phil.wrapper\n",
            "  File \"h5py/h5f.pyx\", line 78, in h5py.h5f.open\n",
            "OSError: Unable to open file (unable to open file: name = './runs/imdb/word_cnn.dat', errno = 2, error message = 'No such file or directory', flags = 0, o_flags = 0)\n"
          ],
          "name": "stdout"
        }
      ]
    }
  ]
}