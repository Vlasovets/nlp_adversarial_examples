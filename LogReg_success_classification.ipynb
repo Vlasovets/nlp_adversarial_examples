{
  "nbformat": 4,
  "nbformat_minor": 0,
  "metadata": {
    "colab": {
      "name": "LogReg_success_classification.ipynb",
      "provenance": [],
      "toc_visible": true,
      "authorship_tag": "ABX9TyOpUj8njazqPU4fv2m47S/O",
      "include_colab_link": true
    },
    "kernelspec": {
      "name": "python3",
      "display_name": "Python 3"
    },
    "accelerator": "GPU"
  },
  "cells": [
    {
      "cell_type": "markdown",
      "metadata": {
        "id": "view-in-github",
        "colab_type": "text"
      },
      "source": [
        "<a href=\"https://colab.research.google.com/github/Vlasovets/nlp_adversarial_examples/blob/master/LogReg_success_classification.ipynb\" target=\"_parent\"><img src=\"https://colab.research.google.com/assets/colab-badge.svg\" alt=\"Open In Colab\"/></a>"
      ]
    },
    {
      "cell_type": "code",
      "metadata": {
        "id": "DLTBOX-viSYu",
        "colab_type": "code",
        "colab": {}
      },
      "source": [
        "!mkdir data"
      ],
      "execution_count": 0,
      "outputs": []
    },
    {
      "cell_type": "code",
      "metadata": {
        "id": "GMCmYynokZh0",
        "colab_type": "code",
        "colab": {
          "base_uri": "https://localhost:8080/",
          "height": 34
        },
        "outputId": "25f20177-4542-4469-e438-e6572227183e"
      },
      "source": [
        "%cd data"
      ],
      "execution_count": 2,
      "outputs": [
        {
          "output_type": "stream",
          "text": [
            "/content/data\n"
          ],
          "name": "stdout"
        }
      ]
    },
    {
      "cell_type": "code",
      "metadata": {
        "id": "Ug7UNGamkpn7",
        "colab_type": "code",
        "colab": {}
      },
      "source": [
        "!mv /content/ag_news_csv.zip /content/data"
      ],
      "execution_count": 0,
      "outputs": []
    },
    {
      "cell_type": "code",
      "metadata": {
        "id": "OXf2ALFxkbX8",
        "colab_type": "code",
        "colab": {
          "base_uri": "https://localhost:8080/",
          "height": 103
        },
        "outputId": "335c881c-905d-437f-f01e-efe71718ffb5"
      },
      "source": [
        "!unzip ag_news_csv.zip"
      ],
      "execution_count": 5,
      "outputs": [
        {
          "output_type": "stream",
          "text": [
            "Archive:  ag_news_csv.zip\n",
            " extracting: ag_news_csv/classes.txt  \n",
            "  inflating: ag_news_csv/readme.txt  \n",
            "  inflating: ag_news_csv/test.csv    \n",
            "  inflating: ag_news_csv/train.csv   \n"
          ],
          "name": "stdout"
        }
      ]
    },
    {
      "cell_type": "code",
      "metadata": {
        "id": "f-_EfL_slJ2u",
        "colab_type": "code",
        "colab": {
          "base_uri": "https://localhost:8080/",
          "height": 34
        },
        "outputId": "8c571b95-2894-4ef2-f925-b512e91ecaa0"
      },
      "source": [
        "%cd /content/data/ag_news_csv"
      ],
      "execution_count": 11,
      "outputs": [
        {
          "output_type": "stream",
          "text": [
            "/content/data/ag_news_csv\n"
          ],
          "name": "stdout"
        }
      ]
    },
    {
      "cell_type": "code",
      "metadata": {
        "id": "AMjePOJ1k32S",
        "colab_type": "code",
        "colab": {}
      },
      "source": [
        "import pandas as pd\n",
        "import numpy as np\n",
        "\n",
        "from sklearn import model_selection, linear_model, metrics\n",
        "from sklearn import metrics\n",
        "from sklearn.metrics import classification_report\n",
        "from sklearn.feature_extraction.text import TfidfVectorizer"
      ],
      "execution_count": 0,
      "outputs": []
    },
    {
      "cell_type": "code",
      "metadata": {
        "id": "2aUtN0Mwk74L",
        "colab_type": "code",
        "colab": {
          "base_uri": "https://localhost:8080/",
          "height": 274
        },
        "outputId": "ef3d212b-e168-44af-dc35-b660c7fcdddb"
      },
      "source": [
        "train = pd.read_csv('train.csv', header=None)\n",
        "train.columns = ['Class','Title', 'Description']\n",
        "\n",
        "test = pd.read_csv('test.csv', header=None)\n",
        "test.columns = ['Class','Title', 'Description']\n",
        "\n",
        "print(train.head(), test.head())"
      ],
      "execution_count": 31,
      "outputs": [
        {
          "output_type": "stream",
          "text": [
            "   Class  ...                                        Description\n",
            "0      3  ...  Reuters - Short-sellers, Wall Street's dwindli...\n",
            "1      3  ...  Reuters - Private investment firm Carlyle Grou...\n",
            "2      3  ...  Reuters - Soaring crude prices plus worries\\ab...\n",
            "3      3  ...  Reuters - Authorities have halted oil export\\f...\n",
            "4      3  ...  AFP - Tearaway world oil prices, toppling reco...\n",
            "\n",
            "[5 rows x 3 columns]    Class  ...                                        Description\n",
            "0      3  ...  Unions representing workers at Turner   Newall...\n",
            "1      4  ...  SPACE.com - TORONTO, Canada -- A second\\team o...\n",
            "2      4  ...  AP - A company founded by a chemistry research...\n",
            "3      4  ...  AP - It's barely dawn when Mike Fitzpatrick st...\n",
            "4      4  ...  AP - Southern California's smog-fighting agenc...\n",
            "\n",
            "[5 rows x 3 columns]\n"
          ],
          "name": "stdout"
        }
      ]
    },
    {
      "cell_type": "code",
      "metadata": {
        "id": "CXG5pcLvnzkg",
        "colab_type": "code",
        "colab": {
          "base_uri": "https://localhost:8080/",
          "height": 34
        },
        "outputId": "b18b1a94-0e7c-434c-cf50-d8347cb27d71"
      },
      "source": [
        "y_train = train['Class']\n",
        "y_test = test['Class']\n",
        "\n",
        "print(len(y_train), len(y_test))"
      ],
      "execution_count": 32,
      "outputs": [
        {
          "output_type": "stream",
          "text": [
            "120000 7600\n"
          ],
          "name": "stdout"
        }
      ]
    },
    {
      "cell_type": "code",
      "metadata": {
        "id": "RdGDGt03p9MQ",
        "colab_type": "code",
        "colab": {
          "base_uri": "https://localhost:8080/",
          "height": 71
        },
        "outputId": "3a74463f-2198-4fa8-b002-e055b22af287"
      },
      "source": [
        "def tokenizersplit(str):\n",
        "    return str.split();\n",
        "\n",
        "tfidf = TfidfVectorizer(tokenizer=tokenizersplit, encoding='utf-8', min_df=2, ngram_range=(1, 2), max_features=25000)\n",
        "tfidf.fit(train['Description'])\n",
        "\n",
        "X_train = tfidf.transform(train['Description'])\n",
        "X_test = tfidf.transform(test['Description'])"
      ],
      "execution_count": 41,
      "outputs": [
        {
          "output_type": "stream",
          "text": [
            "/usr/local/lib/python3.6/dist-packages/sklearn/feature_extraction/text.py:507: UserWarning: The parameter 'token_pattern' will not be used since 'tokenizer' is not None'\n",
            "  warnings.warn(\"The parameter 'token_pattern' will not be used\"\n"
          ],
          "name": "stderr"
        }
      ]
    },
    {
      "cell_type": "code",
      "metadata": {
        "id": "GkcMjrrusCg0",
        "colab_type": "code",
        "colab": {
          "base_uri": "https://localhost:8080/",
          "height": 343
        },
        "outputId": "ebf436b8-2759-4db6-957a-7687e6da4249"
      },
      "source": [
        "model = linear_model.LogisticRegression()\n",
        "model.fit(X_train, y_train)\n",
        "y_pred = model.predict(X_test)\n",
        "\n",
        "print(metrics.classification_report(np.array(y_test), y_pred, labels=[1, 2, 3, 4]))"
      ],
      "execution_count": 54,
      "outputs": [
        {
          "output_type": "stream",
          "text": [
            "              precision    recall  f1-score   support\n",
            "\n",
            "           1       0.93      0.89      0.91      1900\n",
            "           2       0.94      0.97      0.96      1900\n",
            "           3       0.87      0.87      0.87      1900\n",
            "           4       0.87      0.87      0.87      1900\n",
            "\n",
            "    accuracy                           0.90      7600\n",
            "   macro avg       0.90      0.90      0.90      7600\n",
            "weighted avg       0.90      0.90      0.90      7600\n",
            "\n"
          ],
          "name": "stdout"
        },
        {
          "output_type": "stream",
          "text": [
            "/usr/local/lib/python3.6/dist-packages/sklearn/linear_model/_logistic.py:940: ConvergenceWarning: lbfgs failed to converge (status=1):\n",
            "STOP: TOTAL NO. of ITERATIONS REACHED LIMIT.\n",
            "\n",
            "Increase the number of iterations (max_iter) or scale the data as shown in:\n",
            "    https://scikit-learn.org/stable/modules/preprocessing.html\n",
            "Please also refer to the documentation for alternative solver options:\n",
            "    https://scikit-learn.org/stable/modules/linear_model.html#logistic-regression\n",
            "  extra_warning_msg=_LOGISTIC_SOLVER_CONVERGENCE_MSG)\n"
          ],
          "name": "stderr"
        }
      ]
    }
  ]
}