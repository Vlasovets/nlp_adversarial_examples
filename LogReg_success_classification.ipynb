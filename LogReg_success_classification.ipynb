{
  "nbformat": 4,
  "nbformat_minor": 0,
  "metadata": {
    "colab": {
      "name": "LogReg_success_classification.ipynb",
      "provenance": [],
      "toc_visible": true,
      "authorship_tag": "ABX9TyNybnI9UvWQ0CXEYRDReBCE",
      "include_colab_link": true
    },
    "kernelspec": {
      "name": "python3",
      "display_name": "Python 3"
    },
    "accelerator": "GPU"
  },
  "cells": [
    {
      "cell_type": "markdown",
      "metadata": {
        "id": "view-in-github",
        "colab_type": "text"
      },
      "source": [
        "<a href=\"https://colab.research.google.com/github/Vlasovets/nlp_adversarial_examples/blob/master/LogReg_success_classification.ipynb\" target=\"_parent\"><img src=\"https://colab.research.google.com/assets/colab-badge.svg\" alt=\"Open In Colab\"/></a>"
      ]
    },
    {
      "cell_type": "code",
      "metadata": {
        "id": "DLTBOX-viSYu",
        "colab_type": "code",
        "colab": {}
      },
      "source": [
        "!mkdir data"
      ],
      "execution_count": 0,
      "outputs": []
    },
    {
      "cell_type": "code",
      "metadata": {
        "id": "GMCmYynokZh0",
        "colab_type": "code",
        "outputId": "c7ecceb4-acc4-4632-f1fe-e7f1c1069327",
        "colab": {
          "base_uri": "https://localhost:8080/",
          "height": 34
        }
      },
      "source": [
        "%cd data"
      ],
      "execution_count": 3,
      "outputs": [
        {
          "output_type": "stream",
          "text": [
            "/content/data\n"
          ],
          "name": "stdout"
        }
      ]
    },
    {
      "cell_type": "code",
      "metadata": {
        "id": "Ug7UNGamkpn7",
        "colab_type": "code",
        "colab": {}
      },
      "source": [
        "!mv /content/ag_news_csv.zip /content/data"
      ],
      "execution_count": 0,
      "outputs": []
    },
    {
      "cell_type": "code",
      "metadata": {
        "id": "OXf2ALFxkbX8",
        "colab_type": "code",
        "outputId": "da61c4f3-fa3c-4708-be0d-7d1244e0bbfe",
        "colab": {
          "base_uri": "https://localhost:8080/",
          "height": 103
        }
      },
      "source": [
        "!unzip ag_news_csv.zip"
      ],
      "execution_count": 5,
      "outputs": [
        {
          "output_type": "stream",
          "text": [
            "Archive:  ag_news_csv.zip\n",
            " extracting: ag_news_csv/classes.txt  \n",
            "  inflating: ag_news_csv/readme.txt  \n",
            "  inflating: ag_news_csv/test.csv    \n",
            "  inflating: ag_news_csv/train.csv   \n"
          ],
          "name": "stdout"
        }
      ]
    },
    {
      "cell_type": "code",
      "metadata": {
        "id": "f-_EfL_slJ2u",
        "colab_type": "code",
        "outputId": "f7ac7ea8-c524-42d2-bea0-ace3ef080ef8",
        "colab": {
          "base_uri": "https://localhost:8080/",
          "height": 34
        }
      },
      "source": [
        "%cd /content/data/ag_news_csv"
      ],
      "execution_count": 5,
      "outputs": [
        {
          "output_type": "stream",
          "text": [
            "/content/data/ag_news_csv\n"
          ],
          "name": "stdout"
        }
      ]
    },
    {
      "cell_type": "code",
      "metadata": {
        "id": "AMjePOJ1k32S",
        "colab_type": "code",
        "colab": {}
      },
      "source": [
        "import pandas as pd\n",
        "import numpy as np\n",
        "\n",
        "from sklearn import model_selection, linear_model, metrics\n",
        "from sklearn import metrics\n",
        "from sklearn.metrics import classification_report\n",
        "from sklearn.feature_extraction.text import TfidfVectorizer"
      ],
      "execution_count": 0,
      "outputs": []
    },
    {
      "cell_type": "code",
      "metadata": {
        "id": "3nxiRRqOiiwO",
        "colab_type": "code",
        "colab": {}
      },
      "source": [
        "%%capture\n",
        "from tqdm import tqdm_notebook as tqdm\n",
        "tqdm().pandas()"
      ],
      "execution_count": 0,
      "outputs": []
    },
    {
      "cell_type": "code",
      "metadata": {
        "id": "mGLiusZFib7Q",
        "colab_type": "code",
        "colab": {}
      },
      "source": [
        "!jupyter nbextension enable --py widgetsnbextension"
      ],
      "execution_count": 0,
      "outputs": []
    },
    {
      "cell_type": "code",
      "metadata": {
        "id": "POJgVUKeqxgd",
        "colab_type": "code",
        "colab": {
          "base_uri": "https://localhost:8080/",
          "height": 34
        },
        "outputId": "a4b92a19-2724-42c3-d9da-735bcb31c0eb"
      },
      "source": [
        "%cd /Users/xvlasol/Desktop/samples/ag_news_csv"
      ],
      "execution_count": 7,
      "outputs": [
        {
          "output_type": "stream",
          "text": [
            "C:\\Users\\xvlasol\\Desktop\\samples\\ag_news_csv\n"
          ],
          "name": "stdout"
        }
      ]
    },
    {
      "cell_type": "markdown",
      "metadata": {
        "id": "hZMP-qNd_LGu",
        "colab_type": "text"
      },
      "source": [
        "#Data preparation"
      ]
    },
    {
      "cell_type": "markdown",
      "metadata": {
        "id": "3n9UJabGyOjs",
        "colab_type": "text"
      },
      "source": [
        "##AG News dataset\n",
        "The training dataset will be the same for every model"
      ]
    },
    {
      "cell_type": "code",
      "metadata": {
        "id": "2aUtN0Mwk74L",
        "colab_type": "code",
        "outputId": "2af2acec-c066-4f04-bed2-be4efcd8fe94",
        "colab": {
          "base_uri": "https://localhost:8080/",
          "height": 446
        }
      },
      "source": [
        "train = pd.read_csv('train.csv', header=None)\n",
        "train.columns = ['Class','Title', 'Description']\n",
        "\n",
        "test_ag = pd.read_csv('test.csv', header=None)\n",
        "test_ag.columns = ['Class','Title', 'Description']\n",
        "\n",
        "print(train.head(), test_ag.head())"
      ],
      "execution_count": 8,
      "outputs": [
        {
          "output_type": "stream",
          "text": [
            "   Class                                              Title  \\\n",
            "0      3  Wall St. Bears Claw Back Into the Black (Reuters)   \n",
            "1      3  Carlyle Looks Toward Commercial Aerospace (Reu...   \n",
            "2      3    Oil and Economy Cloud Stocks' Outlook (Reuters)   \n",
            "3      3  Iraq Halts Oil Exports from Main Southern Pipe...   \n",
            "4      3  Oil prices soar to all-time record, posing new...   \n",
            "\n",
            "                                         Description  \n",
            "0  Reuters - Short-sellers, Wall Street's dwindli...  \n",
            "1  Reuters - Private investment firm Carlyle Grou...  \n",
            "2  Reuters - Soaring crude prices plus worries\\ab...  \n",
            "3  Reuters - Authorities have halted oil export\\f...  \n",
            "4  AFP - Tearaway world oil prices, toppling reco...      Class                                              Title  \\\n",
            "0      3                  Fears for T N pension after talks   \n",
            "1      4  The Race is On: Second Private Team Sets Launc...   \n",
            "2      4      Ky. Company Wins Grant to Study Peptides (AP)   \n",
            "3      4      Prediction Unit Helps Forecast Wildfires (AP)   \n",
            "4      4        Calif. Aims to Limit Farm-Related Smog (AP)   \n",
            "\n",
            "                                         Description  \n",
            "0  Unions representing workers at Turner   Newall...  \n",
            "1  SPACE.com - TORONTO, Canada -- A second\\team o...  \n",
            "2  AP - A company founded by a chemistry research...  \n",
            "3  AP - It's barely dawn when Mike Fitzpatrick st...  \n",
            "4  AP - Southern California's smog-fighting agenc...  \n"
          ],
          "name": "stdout"
        }
      ]
    },
    {
      "cell_type": "code",
      "metadata": {
        "id": "1iWMhL6LhAFl",
        "colab_type": "code",
        "colab": {}
      },
      "source": [
        "test_ag = test_ag[:987]"
      ],
      "execution_count": 0,
      "outputs": []
    },
    {
      "cell_type": "code",
      "metadata": {
        "id": "CXG5pcLvnzkg",
        "colab_type": "code",
        "outputId": "fc800e0d-78fe-4653-e018-62b7eec482d6",
        "colab": {
          "base_uri": "https://localhost:8080/",
          "height": 34
        }
      },
      "source": [
        "y_train = train['Class']\n",
        "y_test = test_ag['Class']\n",
        "\n",
        "print(len(y_train), len(y_test))"
      ],
      "execution_count": 10,
      "outputs": [
        {
          "output_type": "stream",
          "text": [
            "120000 987\n"
          ],
          "name": "stdout"
        }
      ]
    },
    {
      "cell_type": "markdown",
      "metadata": {
        "id": "8PpkUWRh_Y3q",
        "colab_type": "text"
      },
      "source": [
        "##DeepWordBug Samples\n",
        "\n",
        "Not possible to get y_test"
      ]
    },
    {
      "cell_type": "code",
      "metadata": {
        "id": "KJ2U8PhM_XAJ",
        "colab_type": "code",
        "outputId": "15d79e3d-125a-439a-ad45-114ff9c31be9",
        "colab": {
          "base_uri": "https://localhost:8080/",
          "height": 203
        }
      },
      "source": [
        "test_dwb = pd.read_csv('DWB_output.txt', sep='\\n', header=None)\n",
        "test_dwb.columns = ['Description']\n",
        "\n",
        "#print(train_ag.head(), test_ag.head())\n",
        "test_dwb.head()"
      ],
      "execution_count": 0,
      "outputs": [
        {
          "output_type": "execute_result",
          "data": {
            "text/html": [
              "<div>\n",
              "<style scoped>\n",
              "    .dataframe tbody tr th:only-of-type {\n",
              "        vertical-align: middle;\n",
              "    }\n",
              "\n",
              "    .dataframe tbody tr th {\n",
              "        vertical-align: top;\n",
              "    }\n",
              "\n",
              "    .dataframe thead th {\n",
              "        text-align: right;\n",
              "    }\n",
              "</style>\n",
              "<table border=\"1\" class=\"dataframe\">\n",
              "  <thead>\n",
              "    <tr style=\"text-align: right;\">\n",
              "      <th></th>\n",
              "      <th>Description</th>\n",
              "    </tr>\n",
              "  </thead>\n",
              "  <tbody>\n",
              "    <tr>\n",
              "      <th>0</th>\n",
              "      <td>unctad optimistic on global fdi inflows the un...</td>\n",
              "    </tr>\n",
              "    <tr>\n",
              "      <th>1</th>\n",
              "      <td>hundreds mourn loss of student killed by polic...</td>\n",
              "    </tr>\n",
              "    <tr>\n",
              "      <th>2</th>\n",
              "      <td>rebels attack in central iraq and the north a ...</td>\n",
              "    </tr>\n",
              "    <tr>\n",
              "      <th>3</th>\n",
              "      <td>no sign yet of predicted big california earthq...</td>\n",
              "    </tr>\n",
              "    <tr>\n",
              "      <th>4</th>\n",
              "      <td>accounting body delays rule on expensing optio...</td>\n",
              "    </tr>\n",
              "  </tbody>\n",
              "</table>\n",
              "</div>"
            ],
            "text/plain": [
              "                                         Description\n",
              "0  unctad optimistic on global fdi inflows the un...\n",
              "1  hundreds mourn loss of student killed by polic...\n",
              "2  rebels attack in central iraq and the north a ...\n",
              "3  no sign yet of predicted big california earthq...\n",
              "4  accounting body delays rule on expensing optio..."
            ]
          },
          "metadata": {
            "tags": []
          },
          "execution_count": 9
        }
      ]
    },
    {
      "cell_type": "markdown",
      "metadata": {
        "id": "_LvHA54cfoBU",
        "colab_type": "text"
      },
      "source": [
        "##CNN Samples"
      ]
    },
    {
      "cell_type": "code",
      "metadata": {
        "id": "uUodH31QmoUZ",
        "colab_type": "code",
        "outputId": "325b3a76-0f95-4436-b6d8-e0f3e131f395",
        "colab": {
          "base_uri": "https://localhost:8080/",
          "height": 203
        }
      },
      "source": [
        "test_cnn = pd.read_csv('PWWS_cnn_adv_7600.txt', sep='\\n', header=None)\n",
        "test_cnn.columns = ['Description']\n",
        "\n",
        "test_cnn.head()"
      ],
      "execution_count": 11,
      "outputs": [
        {
          "output_type": "execute_result",
          "data": {
            "text/plain": [
              "                                         Description\n",
              "0  Fears for T N pension after talks . Unions rep...\n",
              "1  The Race is On : Second Private Team Sets Laun...\n",
              "2  Ky. Company Wins President to learn Peptides (...\n",
              "3  Prediction Unit Helps Forecast Wildfires (AP)....\n",
              "4  Calif. Aims to Limit Farm-Related Smog (AP). A..."
            ],
            "text/html": [
              "<div>\n",
              "<style scoped>\n",
              "    .dataframe tbody tr th:only-of-type {\n",
              "        vertical-align: middle;\n",
              "    }\n",
              "\n",
              "    .dataframe tbody tr th {\n",
              "        vertical-align: top;\n",
              "    }\n",
              "\n",
              "    .dataframe thead th {\n",
              "        text-align: right;\n",
              "    }\n",
              "</style>\n",
              "<table border=\"1\" class=\"dataframe\">\n",
              "  <thead>\n",
              "    <tr style=\"text-align: right;\">\n",
              "      <th></th>\n",
              "      <th>Description</th>\n",
              "    </tr>\n",
              "  </thead>\n",
              "  <tbody>\n",
              "    <tr>\n",
              "      <th>0</th>\n",
              "      <td>Fears for T N pension after talks . Unions rep...</td>\n",
              "    </tr>\n",
              "    <tr>\n",
              "      <th>1</th>\n",
              "      <td>The Race is On : Second Private Team Sets Laun...</td>\n",
              "    </tr>\n",
              "    <tr>\n",
              "      <th>2</th>\n",
              "      <td>Ky. Company Wins President to learn Peptides (...</td>\n",
              "    </tr>\n",
              "    <tr>\n",
              "      <th>3</th>\n",
              "      <td>Prediction Unit Helps Forecast Wildfires (AP)....</td>\n",
              "    </tr>\n",
              "    <tr>\n",
              "      <th>4</th>\n",
              "      <td>Calif. Aims to Limit Farm-Related Smog (AP). A...</td>\n",
              "    </tr>\n",
              "  </tbody>\n",
              "</table>\n",
              "</div>"
            ]
          },
          "metadata": {
            "tags": []
          },
          "execution_count": 11
        }
      ]
    },
    {
      "cell_type": "markdown",
      "metadata": {
        "id": "jV5ScLKPp6nm",
        "colab_type": "text"
      },
      "source": [
        "Remove the end of each line containing unnecessary statisctics like 'sub_rate: 0.034482758620689655; NE_rate: 0.0'"
      ]
    },
    {
      "cell_type": "code",
      "metadata": {
        "id": "-25ZaINcnCu6",
        "colab_type": "code",
        "outputId": "41a7d614-db0a-4e0c-add7-c2c8fdd0c901",
        "colab": {
          "base_uri": "https://localhost:8080/",
          "height": 203
        }
      },
      "source": [
        "test_cnn['new_Description'] = test_cnn['Description'].str.split('sub_rate').str[0]\n",
        "del test_cnn['Description']\n",
        "test_cnn.columns = ['Description']\n",
        "\n",
        "test_cnn.head()"
      ],
      "execution_count": 12,
      "outputs": [
        {
          "output_type": "execute_result",
          "data": {
            "text/plain": [
              "                                         Description\n",
              "0  Fears for T N pension after talks . Unions rep...\n",
              "1  The Race is On : Second Private Team Sets Laun...\n",
              "2  Ky. Company Wins President to learn Peptides (...\n",
              "3  Prediction Unit Helps Forecast Wildfires (AP)....\n",
              "4  Calif. Aims to Limit Farm-Related Smog (AP). A..."
            ],
            "text/html": [
              "<div>\n",
              "<style scoped>\n",
              "    .dataframe tbody tr th:only-of-type {\n",
              "        vertical-align: middle;\n",
              "    }\n",
              "\n",
              "    .dataframe tbody tr th {\n",
              "        vertical-align: top;\n",
              "    }\n",
              "\n",
              "    .dataframe thead th {\n",
              "        text-align: right;\n",
              "    }\n",
              "</style>\n",
              "<table border=\"1\" class=\"dataframe\">\n",
              "  <thead>\n",
              "    <tr style=\"text-align: right;\">\n",
              "      <th></th>\n",
              "      <th>Description</th>\n",
              "    </tr>\n",
              "  </thead>\n",
              "  <tbody>\n",
              "    <tr>\n",
              "      <th>0</th>\n",
              "      <td>Fears for T N pension after talks . Unions rep...</td>\n",
              "    </tr>\n",
              "    <tr>\n",
              "      <th>1</th>\n",
              "      <td>The Race is On : Second Private Team Sets Laun...</td>\n",
              "    </tr>\n",
              "    <tr>\n",
              "      <th>2</th>\n",
              "      <td>Ky. Company Wins President to learn Peptides (...</td>\n",
              "    </tr>\n",
              "    <tr>\n",
              "      <th>3</th>\n",
              "      <td>Prediction Unit Helps Forecast Wildfires (AP)....</td>\n",
              "    </tr>\n",
              "    <tr>\n",
              "      <th>4</th>\n",
              "      <td>Calif. Aims to Limit Farm-Related Smog (AP). A...</td>\n",
              "    </tr>\n",
              "  </tbody>\n",
              "</table>\n",
              "</div>"
            ]
          },
          "metadata": {
            "tags": []
          },
          "execution_count": 12
        }
      ]
    },
    {
      "cell_type": "code",
      "metadata": {
        "id": "Qi4CVTT2fWgI",
        "colab_type": "code",
        "colab": {
          "base_uri": "https://localhost:8080/",
          "height": 34
        },
        "outputId": "33830315-5bf5-47cd-c341-158e6572d1fe"
      },
      "source": [
        "len(test_cnn)"
      ],
      "execution_count": 15,
      "outputs": [
        {
          "output_type": "execute_result",
          "data": {
            "text/plain": [
              "987"
            ]
          },
          "metadata": {
            "tags": []
          },
          "execution_count": 15
        }
      ]
    },
    {
      "cell_type": "code",
      "metadata": {
        "id": "nh1UYVhng3vX",
        "colab_type": "code",
        "colab": {}
      },
      "source": [
        "test_cnn = test_cnn[:987]"
      ],
      "execution_count": 0,
      "outputs": []
    },
    {
      "cell_type": "markdown",
      "metadata": {
        "id": "bofTamYEfiCv",
        "colab_type": "text"
      },
      "source": [
        "##LSTM Samples\n",
        "\n"
      ]
    },
    {
      "cell_type": "code",
      "metadata": {
        "id": "EDbLt_grfkny",
        "colab_type": "code",
        "colab": {
          "base_uri": "https://localhost:8080/",
          "height": 203
        },
        "outputId": "9d337bb0-f0d2-4c85-c8df-c7cf455545c4"
      },
      "source": [
        "test_lstm = pd.read_csv('LSTM_1000.txt', sep='\\n', header=None)\n",
        "test_lstm.columns = ['Description']\n",
        "\n",
        "test_lstm.head()"
      ],
      "execution_count": 16,
      "outputs": [
        {
          "output_type": "execute_result",
          "data": {
            "text/plain": [
              "                                         Description\n",
              "0  Fears for T N pension after talks . Unions rep...\n",
              "1  The Race is On : Second Private Team Sets Laun...\n",
              "2  Ky. Company Wins Grant to take Peptides ( AFP ...\n",
              "3  Prediction Unit Helps Forecast Wildfires (AP)....\n",
              "4  Calif. Aims to Limit Farm - Related Smog ( AP ..."
            ],
            "text/html": [
              "<div>\n",
              "<style scoped>\n",
              "    .dataframe tbody tr th:only-of-type {\n",
              "        vertical-align: middle;\n",
              "    }\n",
              "\n",
              "    .dataframe tbody tr th {\n",
              "        vertical-align: top;\n",
              "    }\n",
              "\n",
              "    .dataframe thead th {\n",
              "        text-align: right;\n",
              "    }\n",
              "</style>\n",
              "<table border=\"1\" class=\"dataframe\">\n",
              "  <thead>\n",
              "    <tr style=\"text-align: right;\">\n",
              "      <th></th>\n",
              "      <th>Description</th>\n",
              "    </tr>\n",
              "  </thead>\n",
              "  <tbody>\n",
              "    <tr>\n",
              "      <th>0</th>\n",
              "      <td>Fears for T N pension after talks . Unions rep...</td>\n",
              "    </tr>\n",
              "    <tr>\n",
              "      <th>1</th>\n",
              "      <td>The Race is On : Second Private Team Sets Laun...</td>\n",
              "    </tr>\n",
              "    <tr>\n",
              "      <th>2</th>\n",
              "      <td>Ky. Company Wins Grant to take Peptides ( AFP ...</td>\n",
              "    </tr>\n",
              "    <tr>\n",
              "      <th>3</th>\n",
              "      <td>Prediction Unit Helps Forecast Wildfires (AP)....</td>\n",
              "    </tr>\n",
              "    <tr>\n",
              "      <th>4</th>\n",
              "      <td>Calif. Aims to Limit Farm - Related Smog ( AP ...</td>\n",
              "    </tr>\n",
              "  </tbody>\n",
              "</table>\n",
              "</div>"
            ]
          },
          "metadata": {
            "tags": []
          },
          "execution_count": 16
        }
      ]
    },
    {
      "cell_type": "code",
      "metadata": {
        "id": "05LCTyYMf2pE",
        "colab_type": "code",
        "colab": {
          "base_uri": "https://localhost:8080/",
          "height": 203
        },
        "outputId": "9f3fccce-3100-4462-c8d6-a1aa5aa36299"
      },
      "source": [
        "test_lstm['new_Description'] = test_lstm['Description'].str.split('sub_rate').str[0]\n",
        "del test_lstm['Description']\n",
        "test_lstm.columns = ['Description']\n",
        "\n",
        "test_lstm.head()"
      ],
      "execution_count": 17,
      "outputs": [
        {
          "output_type": "execute_result",
          "data": {
            "text/plain": [
              "                                         Description\n",
              "0  Fears for T N pension after talks . Unions rep...\n",
              "1  The Race is On : Second Private Team Sets Laun...\n",
              "2  Ky. Company Wins Grant to take Peptides ( AFP ...\n",
              "3  Prediction Unit Helps Forecast Wildfires (AP)....\n",
              "4  Calif. Aims to Limit Farm - Related Smog ( AP ..."
            ],
            "text/html": [
              "<div>\n",
              "<style scoped>\n",
              "    .dataframe tbody tr th:only-of-type {\n",
              "        vertical-align: middle;\n",
              "    }\n",
              "\n",
              "    .dataframe tbody tr th {\n",
              "        vertical-align: top;\n",
              "    }\n",
              "\n",
              "    .dataframe thead th {\n",
              "        text-align: right;\n",
              "    }\n",
              "</style>\n",
              "<table border=\"1\" class=\"dataframe\">\n",
              "  <thead>\n",
              "    <tr style=\"text-align: right;\">\n",
              "      <th></th>\n",
              "      <th>Description</th>\n",
              "    </tr>\n",
              "  </thead>\n",
              "  <tbody>\n",
              "    <tr>\n",
              "      <th>0</th>\n",
              "      <td>Fears for T N pension after talks . Unions rep...</td>\n",
              "    </tr>\n",
              "    <tr>\n",
              "      <th>1</th>\n",
              "      <td>The Race is On : Second Private Team Sets Laun...</td>\n",
              "    </tr>\n",
              "    <tr>\n",
              "      <th>2</th>\n",
              "      <td>Ky. Company Wins Grant to take Peptides ( AFP ...</td>\n",
              "    </tr>\n",
              "    <tr>\n",
              "      <th>3</th>\n",
              "      <td>Prediction Unit Helps Forecast Wildfires (AP)....</td>\n",
              "    </tr>\n",
              "    <tr>\n",
              "      <th>4</th>\n",
              "      <td>Calif. Aims to Limit Farm - Related Smog ( AP ...</td>\n",
              "    </tr>\n",
              "  </tbody>\n",
              "</table>\n",
              "</div>"
            ]
          },
          "metadata": {
            "tags": []
          },
          "execution_count": 17
        }
      ]
    },
    {
      "cell_type": "markdown",
      "metadata": {
        "id": "4rQ0Ql1AgyBi",
        "colab_type": "text"
      },
      "source": [
        "Make all sample of the same size."
      ]
    },
    {
      "cell_type": "code",
      "metadata": {
        "id": "TEHBcR-wgieK",
        "colab_type": "code",
        "colab": {}
      },
      "source": [
        "test_lstm = test_lstm[:987]"
      ],
      "execution_count": 0,
      "outputs": []
    },
    {
      "cell_type": "code",
      "metadata": {
        "id": "iO4yb2BFgAS1",
        "colab_type": "code",
        "colab": {
          "base_uri": "https://localhost:8080/",
          "height": 34
        },
        "outputId": "df02b1a8-2dae-42af-b96f-f4425838c683"
      },
      "source": [
        "len(test_lstm)"
      ],
      "execution_count": 19,
      "outputs": [
        {
          "output_type": "execute_result",
          "data": {
            "text/plain": [
              "987"
            ]
          },
          "metadata": {
            "tags": []
          },
          "execution_count": 19
        }
      ]
    },
    {
      "cell_type": "markdown",
      "metadata": {
        "id": "rd0kmIofgFWp",
        "colab_type": "text"
      },
      "source": [
        "##BiLSTM Samples"
      ]
    },
    {
      "cell_type": "code",
      "metadata": {
        "id": "ttjZB91GgMkQ",
        "colab_type": "code",
        "colab": {
          "base_uri": "https://localhost:8080/",
          "height": 203
        },
        "outputId": "21add4fa-f37e-4289-825c-c2a086cacad2"
      },
      "source": [
        "test_bilstm = pd.read_csv('BiLSTM_978.txt', sep='\\n', header=None)\n",
        "test_bilstm.columns = ['Description']\n",
        "\n",
        "test_bilstm.head()"
      ],
      "execution_count": 20,
      "outputs": [
        {
          "output_type": "execute_result",
          "data": {
            "text/plain": [
              "                                         Description\n",
              "0  Fears for T N pension after talks . Unions rep...\n",
              "1  The Race is On : Second individual Team Sets L...\n",
              "2  Ky. Company Wins Grant to consider Peptides ( ...\n",
              "3  Prediction Unit Helps Forecast Wildfires ( AP ...\n",
              "4  Calif. Aims to Limit Farm - Related Smog ( AP ..."
            ],
            "text/html": [
              "<div>\n",
              "<style scoped>\n",
              "    .dataframe tbody tr th:only-of-type {\n",
              "        vertical-align: middle;\n",
              "    }\n",
              "\n",
              "    .dataframe tbody tr th {\n",
              "        vertical-align: top;\n",
              "    }\n",
              "\n",
              "    .dataframe thead th {\n",
              "        text-align: right;\n",
              "    }\n",
              "</style>\n",
              "<table border=\"1\" class=\"dataframe\">\n",
              "  <thead>\n",
              "    <tr style=\"text-align: right;\">\n",
              "      <th></th>\n",
              "      <th>Description</th>\n",
              "    </tr>\n",
              "  </thead>\n",
              "  <tbody>\n",
              "    <tr>\n",
              "      <th>0</th>\n",
              "      <td>Fears for T N pension after talks . Unions rep...</td>\n",
              "    </tr>\n",
              "    <tr>\n",
              "      <th>1</th>\n",
              "      <td>The Race is On : Second individual Team Sets L...</td>\n",
              "    </tr>\n",
              "    <tr>\n",
              "      <th>2</th>\n",
              "      <td>Ky. Company Wins Grant to consider Peptides ( ...</td>\n",
              "    </tr>\n",
              "    <tr>\n",
              "      <th>3</th>\n",
              "      <td>Prediction Unit Helps Forecast Wildfires ( AP ...</td>\n",
              "    </tr>\n",
              "    <tr>\n",
              "      <th>4</th>\n",
              "      <td>Calif. Aims to Limit Farm - Related Smog ( AP ...</td>\n",
              "    </tr>\n",
              "  </tbody>\n",
              "</table>\n",
              "</div>"
            ]
          },
          "metadata": {
            "tags": []
          },
          "execution_count": 20
        }
      ]
    },
    {
      "cell_type": "code",
      "metadata": {
        "id": "gF_-2auZgXgq",
        "colab_type": "code",
        "colab": {
          "base_uri": "https://localhost:8080/",
          "height": 203
        },
        "outputId": "bde3440d-3452-40e3-b3b3-8526a4a83296"
      },
      "source": [
        "test_bilstm['new_Description'] = test_bilstm['Description'].str.split('sub_rate').str[0]\n",
        "del test_bilstm['Description']\n",
        "test_bilstm.columns = ['Description']\n",
        "\n",
        "test_bilstm.head()"
      ],
      "execution_count": 21,
      "outputs": [
        {
          "output_type": "execute_result",
          "data": {
            "text/plain": [
              "                                         Description\n",
              "0  Fears for T N pension after talks . Unions rep...\n",
              "1  The Race is On : Second individual Team Sets L...\n",
              "2  Ky. Company Wins Grant to consider Peptides ( ...\n",
              "3  Prediction Unit Helps Forecast Wildfires ( AP ...\n",
              "4  Calif. Aims to Limit Farm - Related Smog ( AP ..."
            ],
            "text/html": [
              "<div>\n",
              "<style scoped>\n",
              "    .dataframe tbody tr th:only-of-type {\n",
              "        vertical-align: middle;\n",
              "    }\n",
              "\n",
              "    .dataframe tbody tr th {\n",
              "        vertical-align: top;\n",
              "    }\n",
              "\n",
              "    .dataframe thead th {\n",
              "        text-align: right;\n",
              "    }\n",
              "</style>\n",
              "<table border=\"1\" class=\"dataframe\">\n",
              "  <thead>\n",
              "    <tr style=\"text-align: right;\">\n",
              "      <th></th>\n",
              "      <th>Description</th>\n",
              "    </tr>\n",
              "  </thead>\n",
              "  <tbody>\n",
              "    <tr>\n",
              "      <th>0</th>\n",
              "      <td>Fears for T N pension after talks . Unions rep...</td>\n",
              "    </tr>\n",
              "    <tr>\n",
              "      <th>1</th>\n",
              "      <td>The Race is On : Second individual Team Sets L...</td>\n",
              "    </tr>\n",
              "    <tr>\n",
              "      <th>2</th>\n",
              "      <td>Ky. Company Wins Grant to consider Peptides ( ...</td>\n",
              "    </tr>\n",
              "    <tr>\n",
              "      <th>3</th>\n",
              "      <td>Prediction Unit Helps Forecast Wildfires ( AP ...</td>\n",
              "    </tr>\n",
              "    <tr>\n",
              "      <th>4</th>\n",
              "      <td>Calif. Aims to Limit Farm - Related Smog ( AP ...</td>\n",
              "    </tr>\n",
              "  </tbody>\n",
              "</table>\n",
              "</div>"
            ]
          },
          "metadata": {
            "tags": []
          },
          "execution_count": 21
        }
      ]
    },
    {
      "cell_type": "code",
      "metadata": {
        "id": "hoEPVwlmgeBQ",
        "colab_type": "code",
        "colab": {
          "base_uri": "https://localhost:8080/",
          "height": 34
        },
        "outputId": "21a3a459-a1d9-4cab-8a1d-837faff5176d"
      },
      "source": [
        "len(test_bilstm)"
      ],
      "execution_count": 22,
      "outputs": [
        {
          "output_type": "execute_result",
          "data": {
            "text/plain": [
              "987"
            ]
          },
          "metadata": {
            "tags": []
          },
          "execution_count": 22
        }
      ]
    },
    {
      "cell_type": "markdown",
      "metadata": {
        "id": "ZVl8QoERq-E7",
        "colab_type": "text"
      },
      "source": [
        "#Vectorizing"
      ]
    },
    {
      "cell_type": "markdown",
      "metadata": {
        "id": "Pr7XZ9AXhcqJ",
        "colab_type": "text"
      },
      "source": [
        "##AG news dataset"
      ]
    },
    {
      "cell_type": "code",
      "metadata": {
        "id": "RdGDGt03p9MQ",
        "colab_type": "code",
        "outputId": "962b73c5-eb0c-4b43-bd69-dc2ebf05c2c1",
        "colab": {
          "base_uri": "https://localhost:8080/",
          "height": 71
        }
      },
      "source": [
        "def tokenizersplit(str):\n",
        "    return str.split();\n",
        "\n",
        "tfidf = TfidfVectorizer(tokenizer=tokenizersplit, encoding='utf-8', min_df=2, ngram_range=(1, 2), max_features=25000)\n",
        "tfidf.fit(train['Description'])\n",
        "\n",
        "X_train = tfidf.transform(train['Description'])\n",
        "X_test_ag = tfidf.transform(test_ag['Description'])"
      ],
      "execution_count": 23,
      "outputs": [
        {
          "output_type": "stream",
          "text": [
            "C:\\Users\\xvlasol\\Anaconda3\\lib\\site-packages\\sklearn\\feature_extraction\\text.py:507: UserWarning: The parameter 'token_pattern' will not be used since 'tokenizer' is not None'\n",
            "  warnings.warn(\"The parameter 'token_pattern' will not be used\"\n"
          ],
          "name": "stderr"
        }
      ]
    },
    {
      "cell_type": "markdown",
      "metadata": {
        "id": "cq0BJtXth5D-",
        "colab_type": "text"
      },
      "source": [
        "##CNN sample"
      ]
    },
    {
      "cell_type": "code",
      "metadata": {
        "id": "3HQXBFz8h-Cj",
        "colab_type": "code",
        "colab": {}
      },
      "source": [
        "X_test_cnn = tfidf.transform(test_cnn['Description'])"
      ],
      "execution_count": 0,
      "outputs": []
    },
    {
      "cell_type": "markdown",
      "metadata": {
        "id": "gQqBss6kiChe",
        "colab_type": "text"
      },
      "source": [
        "##LSTM sample"
      ]
    },
    {
      "cell_type": "code",
      "metadata": {
        "id": "oIjhKzFaiGGB",
        "colab_type": "code",
        "colab": {}
      },
      "source": [
        "X_test_lstm = tfidf.transform(test_lstm['Description'])"
      ],
      "execution_count": 0,
      "outputs": []
    },
    {
      "cell_type": "markdown",
      "metadata": {
        "id": "IKQfYl2SiMU5",
        "colab_type": "text"
      },
      "source": [
        "##BiLSTM sample"
      ]
    },
    {
      "cell_type": "code",
      "metadata": {
        "id": "guk8U9AjiO-w",
        "colab_type": "code",
        "colab": {}
      },
      "source": [
        "X_test_bilstm = tfidf.transform(test_bilstm['Description'])"
      ],
      "execution_count": 0,
      "outputs": []
    },
    {
      "cell_type": "markdown",
      "metadata": {
        "id": "ZIOIkdA53D-s",
        "colab_type": "text"
      },
      "source": [
        "# Logistic regression model"
      ]
    },
    {
      "cell_type": "markdown",
      "metadata": {
        "id": "-fexfPyhi-__",
        "colab_type": "text"
      },
      "source": [
        "##AG news dataset"
      ]
    },
    {
      "cell_type": "code",
      "metadata": {
        "id": "GkcMjrrusCg0",
        "colab_type": "code",
        "outputId": "e36491c8-0262-49aa-f02e-a0927878da13",
        "colab": {
          "base_uri": "https://localhost:8080/",
          "height": 294
        }
      },
      "source": [
        "model = linear_model.LogisticRegression(verbose = 1)\n",
        "model.fit(X_train, y_train)"
      ],
      "execution_count": 27,
      "outputs": [
        {
          "output_type": "stream",
          "text": [
            "[Parallel(n_jobs=1)]: Using backend SequentialBackend with 1 concurrent workers.\n",
            "C:\\Users\\xvlasol\\Anaconda3\\lib\\site-packages\\sklearn\\linear_model\\_logistic.py:940: ConvergenceWarning: lbfgs failed to converge (status=1):\n",
            "STOP: TOTAL NO. of ITERATIONS REACHED LIMIT.\n",
            "\n",
            "Increase the number of iterations (max_iter) or scale the data as shown in:\n",
            "    https://scikit-learn.org/stable/modules/preprocessing.html\n",
            "Please also refer to the documentation for alternative solver options:\n",
            "    https://scikit-learn.org/stable/modules/linear_model.html#logistic-regression\n",
            "  extra_warning_msg=_LOGISTIC_SOLVER_CONVERGENCE_MSG)\n",
            "[Parallel(n_jobs=1)]: Done   1 out of   1 | elapsed:   18.2s finished\n"
          ],
          "name": "stderr"
        },
        {
          "output_type": "execute_result",
          "data": {
            "text/plain": [
              "LogisticRegression(C=1.0, class_weight=None, dual=False, fit_intercept=True,\n",
              "                   intercept_scaling=1, l1_ratio=None, max_iter=100,\n",
              "                   multi_class='auto', n_jobs=None, penalty='l2',\n",
              "                   random_state=None, solver='lbfgs', tol=0.0001, verbose=1,\n",
              "                   warm_start=False)"
            ]
          },
          "metadata": {
            "tags": []
          },
          "execution_count": 27
        }
      ]
    },
    {
      "cell_type": "code",
      "metadata": {
        "id": "6RSFoauOj_o0",
        "colab_type": "code",
        "colab": {
          "base_uri": "https://localhost:8080/",
          "height": 206
        },
        "outputId": "d80c681f-1c6d-4c5c-f532-d4d68c437bea"
      },
      "source": [
        "y_pred_ag = model.predict(X_test_ag)\n",
        "\n",
        "print(metrics.classification_report(np.array(y_test), y_pred_ag, labels=[1, 2, 3, 4]))"
      ],
      "execution_count": 28,
      "outputs": [
        {
          "output_type": "stream",
          "text": [
            "              precision    recall  f1-score   support\n",
            "\n",
            "           1       0.93      0.86      0.90       264\n",
            "           2       0.93      0.97      0.95       270\n",
            "           3       0.79      0.87      0.83       204\n",
            "           4       0.89      0.84      0.86       249\n",
            "\n",
            "    accuracy                           0.89       987\n",
            "   macro avg       0.88      0.89      0.88       987\n",
            "weighted avg       0.89      0.89      0.89       987\n",
            "\n"
          ],
          "name": "stdout"
        }
      ]
    },
    {
      "cell_type": "markdown",
      "metadata": {
        "id": "slLNKgoDjHuX",
        "colab_type": "text"
      },
      "source": [
        "##CNN Samples"
      ]
    },
    {
      "cell_type": "code",
      "metadata": {
        "id": "hApAg4m7jCiw",
        "colab_type": "code",
        "colab": {
          "base_uri": "https://localhost:8080/",
          "height": 206
        },
        "outputId": "76b2bb9c-51d4-4280-de85-bc0ef113f821"
      },
      "source": [
        "y_pred_cnn = model.predict(X_test_cnn)\n",
        "\n",
        "print(metrics.classification_report(np.array(y_test), y_pred_cnn, labels=[1, 2, 3, 4]))"
      ],
      "execution_count": 29,
      "outputs": [
        {
          "output_type": "stream",
          "text": [
            "              precision    recall  f1-score   support\n",
            "\n",
            "           1       0.27      0.38      0.32       264\n",
            "           2       0.36      0.32      0.34       270\n",
            "           3       0.23      0.18      0.20       204\n",
            "           4       0.27      0.23      0.25       249\n",
            "\n",
            "    accuracy                           0.29       987\n",
            "   macro avg       0.28      0.28      0.28       987\n",
            "weighted avg       0.29      0.29      0.28       987\n",
            "\n"
          ],
          "name": "stdout"
        }
      ]
    },
    {
      "cell_type": "markdown",
      "metadata": {
        "id": "dn1V6tEsjOUn",
        "colab_type": "text"
      },
      "source": [
        "##LSTM Samples"
      ]
    },
    {
      "cell_type": "code",
      "metadata": {
        "id": "GxJLbLavjSkD",
        "colab_type": "code",
        "colab": {
          "base_uri": "https://localhost:8080/",
          "height": 206
        },
        "outputId": "6e67102c-8736-40f1-eac0-d1f1b8f325ff"
      },
      "source": [
        "y_pred_lstm = model.predict(X_test_lstm)\n",
        "\n",
        "print(metrics.classification_report(np.array(y_test), y_pred_lstm, labels=[1, 2, 3, 4]))"
      ],
      "execution_count": 30,
      "outputs": [
        {
          "output_type": "stream",
          "text": [
            "              precision    recall  f1-score   support\n",
            "\n",
            "           1       0.49      0.70      0.58       264\n",
            "           2       0.79      0.52      0.62       270\n",
            "           3       0.70      0.64      0.67       204\n",
            "           4       0.59      0.57      0.58       249\n",
            "\n",
            "    accuracy                           0.61       987\n",
            "   macro avg       0.64      0.61      0.61       987\n",
            "weighted avg       0.64      0.61      0.61       987\n",
            "\n"
          ],
          "name": "stdout"
        }
      ]
    },
    {
      "cell_type": "markdown",
      "metadata": {
        "id": "yY8EtNjzlDZI",
        "colab_type": "text"
      },
      "source": [
        "##BiLSTM Samples"
      ]
    },
    {
      "cell_type": "code",
      "metadata": {
        "id": "39GJ9gsslJXW",
        "colab_type": "code",
        "colab": {
          "base_uri": "https://localhost:8080/",
          "height": 206
        },
        "outputId": "a15a8605-1c4c-4776-8bd0-dc21dcbb1fd8"
      },
      "source": [
        "y_pred_bilstm = model.predict(X_test_bilstm)\n",
        "\n",
        "print(metrics.classification_report(np.array(y_test), y_pred_bilstm, labels=[1, 2, 3, 4]))"
      ],
      "execution_count": 31,
      "outputs": [
        {
          "output_type": "stream",
          "text": [
            "              precision    recall  f1-score   support\n",
            "\n",
            "           1       0.59      0.69      0.64       264\n",
            "           2       0.85      0.61      0.71       270\n",
            "           3       0.73      0.72      0.72       204\n",
            "           4       0.65      0.73      0.69       249\n",
            "\n",
            "    accuracy                           0.68       987\n",
            "   macro avg       0.70      0.69      0.69       987\n",
            "weighted avg       0.70      0.68      0.69       987\n",
            "\n"
          ],
          "name": "stdout"
        }
      ]
    },
    {
      "cell_type": "markdown",
      "metadata": {
        "id": "BZnCmqDily1r",
        "colab_type": "text"
      },
      "source": [
        "LR is trained on CNN samples show the worst result of the classification which means that AE technique based on CNN was the most succesful."
      ]
    },
    {
      "cell_type": "markdown",
      "metadata": {
        "id": "tvwwyjyd3JkV",
        "colab_type": "text"
      },
      "source": [
        "#Random forest model"
      ]
    },
    {
      "cell_type": "code",
      "metadata": {
        "id": "w7W7gkqL3Pys",
        "colab_type": "code",
        "outputId": "555664e5-857b-4ce2-bc93-f6c024b08912",
        "colab": {
          "base_uri": "https://localhost:8080/",
          "height": 171
        }
      },
      "source": [
        "# Import the model we are using\n",
        "from sklearn.ensemble import RandomForestRegressor\n",
        "# Instantiate model with 1000 decision trees\n",
        "rf = RandomForestRegressor(n_estimators = 100, random_state = 42, n_jobs=-1, verbose = 2)\n",
        "# Train the model on training data\n",
        "rf.fit(X_train, y_train);"
      ],
      "execution_count": 0,
      "outputs": [
        {
          "output_type": "stream",
          "text": [
            "[Parallel(n_jobs=-1)]: Using backend ThreadingBackend with 8 concurrent workers.\n"
          ],
          "name": "stderr"
        },
        {
          "output_type": "stream",
          "text": [
            "building tree 1 of 100building tree 2 of 100\n",
            "building tree 3 of 100\n",
            "\n",
            "building tree 4 of 100building tree 5 of 100\n",
            "\n",
            "building tree 6 of 100\n",
            "building tree 7 of 100\n",
            "building tree 8 of 100\n"
          ],
          "name": "stdout"
        }
      ]
    },
    {
      "cell_type": "code",
      "metadata": {
        "id": "NbLXnKIanRhr",
        "colab_type": "code",
        "colab": {}
      },
      "source": [
        "# Use the forest's predict method on the test data\n",
        "predictions = rf.predict(X_test)\n",
        "\n",
        "print(metrics.classification_report(np.array(y_test), predictions, labels=[1, 2, 3, 4]))"
      ],
      "execution_count": 0,
      "outputs": []
    },
    {
      "cell_type": "code",
      "metadata": {
        "id": "dxR-aw4npjlU",
        "colab_type": "code",
        "colab": {}
      },
      "source": [
        "from sklearn import svm, grid_search\n",
        "def svc_param_selection(X, y, nfolds):\n",
        "    Cs = [0.01, 1, 10]\n",
        "    gammas = [0.01, 0.1, 1]\n",
        "    param_grid = {'C': Cs, 'gamma' : gammas}\n",
        "    grid_search = GridSearchCV(svm.SVC(kernel='rbf'), param_grid, cv=nfolds)\n",
        "    grid_search.fit(X, y)\n",
        "    grid_search.best_params_\n",
        "    return grid_search.best_params_"
      ],
      "execution_count": 0,
      "outputs": []
    },
    {
      "cell_type": "code",
      "metadata": {
        "id": "YAmVnVVNtjnP",
        "colab_type": "code",
        "colab": {}
      },
      "source": [
        "svc_param_selection(X_train, y_train, 10)"
      ],
      "execution_count": 0,
      "outputs": []
    }
  ]
}